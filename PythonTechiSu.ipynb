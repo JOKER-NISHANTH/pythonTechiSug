{
  "nbformat": 4,
  "nbformat_minor": 0,
  "metadata": {
    "colab": {
      "name": "PythonTechiSu.ipynb",
      "provenance": [],
      "authorship_tag": "ABX9TyNXSV123d8vhUii+wgf19xI",
      "include_colab_link": true
    },
    "kernelspec": {
      "name": "python3",
      "display_name": "Python 3"
    }
  },
  "cells": [
    {
      "cell_type": "markdown",
      "metadata": {
        "id": "view-in-github",
        "colab_type": "text"
      },
      "source": [
        "<a href=\"https://colab.research.google.com/github/JOKER-NISHANTH/pythonTechiSug/blob/master/PythonTechiSu.ipynb\" target=\"_parent\"><img src=\"https://colab.research.google.com/assets/colab-badge.svg\" alt=\"Open In Colab\"/></a>"
      ]
    },
    {
      "cell_type": "code",
      "metadata": {
        "id": "xnA2ocKgQrKe"
      },
      "source": [
        ""
      ],
      "execution_count": null,
      "outputs": []
    },
    {
      "cell_type": "markdown",
      "metadata": {
        "id": "u9xKd3oCQ2ME"
      },
      "source": [
        "# List Comprehension :\r\n",
        "\r\n",
        "List comprehension are useful and help  you write elegant code that's easy to read and debug...\r\n",
        "\r\n",
        "## Syntax : \r\n",
        "\r\n",
        "[ expression for item in iterable ]"
      ]
    },
    {
      "cell_type": "code",
      "metadata": {
        "colab": {
          "base_uri": "https://localhost:8080/"
        },
        "id": "vpZ5cdSFSTr3",
        "outputId": "93b51182-964e-48a4-ac2c-9716c3ecc695"
      },
      "source": [
        "lst = [1,2,3]\r\n",
        "print(lst)"
      ],
      "execution_count": null,
      "outputs": [
        {
          "output_type": "stream",
          "text": [
            "[1, 2, 3]\n"
          ],
          "name": "stdout"
        }
      ]
    },
    {
      "cell_type": "code",
      "metadata": {
        "colab": {
          "base_uri": "https://localhost:8080/"
        },
        "id": "ZhHqLrqqSys4",
        "outputId": "557c5584-1d77-4586-b1df-b16df42fe313"
      },
      "source": [
        "List = [ x for x in range(1,11)]\r\n",
        "print(List)"
      ],
      "execution_count": null,
      "outputs": [
        {
          "output_type": "stream",
          "text": [
            "[1, 2, 3, 4, 5, 6, 7, 8, 9, 10]\n"
          ],
          "name": "stdout"
        }
      ]
    },
    {
      "cell_type": "code",
      "metadata": {
        "colab": {
          "base_uri": "https://localhost:8080/"
        },
        "id": "OpHlRsBtTC2P",
        "outputId": "98f680d1-4b7b-47f5-acc2-7f601c580e10"
      },
      "source": [
        "List = [ x**2 for x in range(1,11)]\r\n",
        "print(List)"
      ],
      "execution_count": null,
      "outputs": [
        {
          "output_type": "stream",
          "text": [
            "[1, 4, 9, 16, 25, 36, 49, 64, 81, 100]\n"
          ],
          "name": "stdout"
        }
      ]
    },
    {
      "cell_type": "markdown",
      "metadata": {
        "id": "6iP-kN14UiOp"
      },
      "source": [
        "#### True Statement in List Comprehension\r\n",
        "\r\n",
        "_Syntax_\r\n",
        "\r\n",
        "[ expression for item in iterable if condition]"
      ]
    },
    {
      "cell_type": "markdown",
      "metadata": {
        "id": "LC7tNCGETgIm"
      },
      "source": [
        "\r\n",
        "### Print Even Number \r\n",
        "---\r\n",
        "\r\n"
      ]
    },
    {
      "cell_type": "code",
      "metadata": {
        "colab": {
          "base_uri": "https://localhost:8080/"
        },
        "id": "0gJK7o2hTOvd",
        "outputId": "aae5f012-d593-41c3-e802-a87310baf662"
      },
      "source": [
        "List = [ x for x in range(1,11) if x%2==0]\r\n",
        "print(List)"
      ],
      "execution_count": null,
      "outputs": [
        {
          "output_type": "stream",
          "text": [
            "[2, 4, 6, 8, 10]\n"
          ],
          "name": "stdout"
        }
      ]
    },
    {
      "cell_type": "markdown",
      "metadata": {
        "id": "1O8_TXAgTra7"
      },
      "source": [
        "### Print Odd Number"
      ]
    },
    {
      "cell_type": "code",
      "metadata": {
        "colab": {
          "base_uri": "https://localhost:8080/"
        },
        "id": "MNTQ1PwyT6_O",
        "outputId": "f5916418-bc01-49e6-f01a-f07a28da7e83"
      },
      "source": [
        "List = [ x for x in range(1,11) if not x%2==0]\r\n",
        "print(List)"
      ],
      "execution_count": null,
      "outputs": [
        {
          "output_type": "stream",
          "text": [
            "[1, 3, 5, 7, 9]\n"
          ],
          "name": "stdout"
        }
      ]
    },
    {
      "cell_type": "markdown",
      "metadata": {
        "id": "2hZWtmujURyR"
      },
      "source": [
        "#### True And False Statement in List Comprehension\r\n",
        "\r\n",
        "_Syntax_\r\n",
        "\r\n",
        "[ T-expr if conditon else F-expr for item in iterable ]"
      ]
    },
    {
      "cell_type": "code",
      "metadata": {
        "colab": {
          "base_uri": "https://localhost:8080/"
        },
        "id": "i1q-FZgZVtk2",
        "outputId": "be870acc-187a-4ccf-9935-b3335ab5abe8"
      },
      "source": [
        "List = [ x if (x > 2) else x+1 for x in range(1,11)]\r\n",
        "print(List)"
      ],
      "execution_count": null,
      "outputs": [
        {
          "output_type": "stream",
          "text": [
            "[2, 3, 3, 4, 5, 6, 7, 8, 9, 10]\n"
          ],
          "name": "stdout"
        }
      ]
    },
    {
      "cell_type": "markdown",
      "metadata": {
        "id": "ayjrDaoRW2Jp"
      },
      "source": [
        "Print 1 to 10 and Even Numbers square and Odd numbers cube\r\n",
        "\r\n",
        "\r\n",
        "eg:\r\n",
        "```\r\n",
        "  1, 4, 27 , 16 ,125 .......,729 , 100\r\n",
        "```"
      ]
    },
    {
      "cell_type": "code",
      "metadata": {
        "colab": {
          "base_uri": "https://localhost:8080/"
        },
        "id": "7q7cRqyqWgjV",
        "outputId": "988f4984-8da9-4b3c-bcd5-d82b358bdfee"
      },
      "source": [
        "List = [ x**2 if x%2==0 else x**3 for x in range(1,11)]\r\n",
        "print(List)"
      ],
      "execution_count": null,
      "outputs": [
        {
          "output_type": "stream",
          "text": [
            "[1, 4, 27, 16, 125, 36, 343, 64, 729, 100]\n"
          ],
          "name": "stdout"
        }
      ]
    },
    {
      "cell_type": "markdown",
      "metadata": {
        "id": "N7nTQ8qVXl43"
      },
      "source": [
        "**List Comprehension examples**"
      ]
    },
    {
      "cell_type": "markdown",
      "metadata": {
        "id": "yBkgZtjuX0wB"
      },
      "source": [
        "1. Question \r\n",
        "Multiple no to List"
      ]
    },
    {
      "cell_type": "code",
      "metadata": {
        "colab": {
          "base_uri": "https://localhost:8080/"
        },
        "id": "qF4vcWpZX_pG",
        "outputId": "bb94e5c8-1241-4c04-afdc-faefbb3b094d"
      },
      "source": [
        "List = [ 1,2,3,4,5 ]\r\n",
        "Result = [ x*2 for x in List]\r\n",
        "print(Result)"
      ],
      "execution_count": null,
      "outputs": [
        {
          "output_type": "stream",
          "text": [
            "[2, 4, 6, 8, 10]\n"
          ],
          "name": "stdout"
        }
      ]
    },
    {
      "cell_type": "markdown",
      "metadata": {
        "id": "1XR4q9iKYiLG"
      },
      "source": [
        "2 . Extract numbers or alphabets form string"
      ]
    },
    {
      "cell_type": "code",
      "metadata": {
        "colab": {
          "base_uri": "https://localhost:8080/"
        },
        "id": "VIWZbaVHZDYR",
        "outputId": "abbb2feb-c199-4482-80f8-f6e5ba53b75b"
      },
      "source": [
        "name = \"BlackPearl379\"\r\n",
        "Result = [x for x in name if x.isalpha()]\r\n",
        "print(Result)\r\n",
        "Result = [x for x in name if x.isdigit()]\r\n",
        "print(Result)"
      ],
      "execution_count": null,
      "outputs": [
        {
          "output_type": "stream",
          "text": [
            "['B', 'l', 'a', 'c', 'k', 'P', 'e', 'a', 'r', 'l']\n",
            "['3', '7', '9']\n"
          ],
          "name": "stdout"
        }
      ]
    },
    {
      "cell_type": "markdown",
      "metadata": {
        "id": "VmiiE7AMaMY5"
      },
      "source": [
        "3. To Change cases of words in List"
      ]
    },
    {
      "cell_type": "code",
      "metadata": {
        "colab": {
          "base_uri": "https://localhost:8080/"
        },
        "id": "KngUUUGGaRgi",
        "outputId": "ff22ef1b-bbe3-4f93-82ff-2b54fd41b6a4"
      },
      "source": [
        "fruits = ['apple','orange','grapes']\r\n",
        "UpperCase = [ x.upper() for x in fruits]\r\n",
        "print(UpperCase)\r\n"
      ],
      "execution_count": null,
      "outputs": [
        {
          "output_type": "stream",
          "text": [
            "['APPLE', 'ORANGE', 'GRAPES']\n"
          ],
          "name": "stdout"
        }
      ]
    },
    {
      "cell_type": "markdown",
      "metadata": {
        "id": "FzMJIA0XbDZD"
      },
      "source": [
        "4. Nested List Comprehension"
      ]
    },
    {
      "cell_type": "code",
      "metadata": {
        "colab": {
          "base_uri": "https://localhost:8080/"
        },
        "id": "v8B8v46SbJbE",
        "outputId": "6771e201-4b9e-4b35-de08-9ba7342abaee"
      },
      "source": [
        "NestedList = [[1,2,3,4,5],['a','b','c','d','e'],['Cyber','Black']]\r\n",
        "print(NestedList)\r\n",
        "Result = [ x[0] for x in NestedList]\r\n",
        "print(Result)\r\n",
        "Result = [ x[1] for x in NestedList]\r\n",
        "print(Result)\r\n"
      ],
      "execution_count": null,
      "outputs": [
        {
          "output_type": "stream",
          "text": [
            "[[1, 2, 3, 4, 5], ['a', 'b', 'c', 'd', 'e'], ['Cyber', 'Black']]\n",
            "[1, 'a', 'Cyber']\n",
            "[2, 'b', 'Black']\n"
          ],
          "name": "stdout"
        }
      ]
    },
    {
      "cell_type": "markdown",
      "metadata": {
        "id": "5A21_4ntccrQ"
      },
      "source": [
        "5. Addition of two List"
      ]
    },
    {
      "cell_type": "code",
      "metadata": {
        "colab": {
          "base_uri": "https://localhost:8080/"
        },
        "id": "9FBxyR9Ucgec",
        "outputId": "e8a0ffda-92d0-4adf-8afc-cb14e469618f"
      },
      "source": [
        "List_1 = [1,2]\r\n",
        "List_2 = [3,4]\r\n",
        "\r\n",
        "Added = [x+y for x in List_1 for y in List_2]\r\n",
        "print(Added)"
      ],
      "execution_count": null,
      "outputs": [
        {
          "output_type": "stream",
          "text": [
            "[4, 5, 5, 6]\n"
          ],
          "name": "stdout"
        }
      ]
    },
    {
      "cell_type": "markdown",
      "metadata": {
        "id": "W5SCzXKPdQ63"
      },
      "source": [
        "Addition  of two List (Corresponding Values)\r\n"
      ]
    },
    {
      "cell_type": "code",
      "metadata": {
        "colab": {
          "base_uri": "https://localhost:8080/"
        },
        "id": "iuKzUIszdbZI",
        "outputId": "9f3c1313-e38e-42ae-e2de-7ab26a069e62"
      },
      "source": [
        "List_1 = [1,2]\r\n",
        "List_2 = [3,4]\r\n",
        "\r\n",
        "Added = [List_1[i] + List_2 [i] for i in range(len(List_1))]\r\n",
        "print(Added)"
      ],
      "execution_count": null,
      "outputs": [
        {
          "output_type": "stream",
          "text": [
            "[4, 6]\n"
          ],
          "name": "stdout"
        }
      ]
    },
    {
      "cell_type": "markdown",
      "metadata": {
        "id": "BRWAGzvteEec"
      },
      "source": [
        "6. Forming Unique pairs:"
      ]
    },
    {
      "cell_type": "code",
      "metadata": {
        "colab": {
          "base_uri": "https://localhost:8080/"
        },
        "id": "xxUrLOR8eKHF",
        "outputId": "ec840552-1a4d-4fba-d7fa-347f179a0a1e"
      },
      "source": [
        "List_1 = [1,2]\r\n",
        "List_2 = [3,4]\r\n",
        "Unique = [ (x,y) for x in List_1 for y in List_2 if not x==y]\r\n",
        "print(Unique)"
      ],
      "execution_count": null,
      "outputs": [
        {
          "output_type": "stream",
          "text": [
            "[(1, 3), (1, 4), (2, 3), (2, 4)]\n"
          ],
          "name": "stdout"
        }
      ]
    },
    {
      "cell_type": "markdown",
      "metadata": {
        "id": "5mdOBk8zfEM5"
      },
      "source": [
        "7. Function"
      ]
    },
    {
      "cell_type": "code",
      "metadata": {
        "colab": {
          "base_uri": "https://localhost:8080/"
        },
        "id": "SLzGGB5EfIZL",
        "outputId": "65a26fed-5f25-4d4f-bbf6-efef4f94a189"
      },
      "source": [
        "def square(x):\r\n",
        "  return (x*x)\r\n",
        "\r\n",
        "print([square(x) for x in range(1,11)])  "
      ],
      "execution_count": null,
      "outputs": [
        {
          "output_type": "stream",
          "text": [
            "[1, 4, 9, 16, 25, 36, 49, 64, 81, 100]\n"
          ],
          "name": "stdout"
        }
      ]
    },
    {
      "cell_type": "markdown",
      "metadata": {
        "id": "ZuKxrS6Xfu0n"
      },
      "source": [
        "\r\n",
        "\r\n",
        "---\r\n",
        "\r\n"
      ]
    },
    {
      "cell_type": "markdown",
      "metadata": {
        "id": "6DbqaTSGfz4R"
      },
      "source": [
        "# Function\r\n",
        "\r\n",
        "Python function are categorized into \r\n",
        "\r\n",
        "* in-built function\r\n",
        "* User defined functions\r\n",
        "  \r\n",
        "  * Function Definition\r\n",
        "  * Function Calling\r\n",
        "\r\n",
        "_Syntax_\r\n",
        "\r\n",
        "```python\r\n",
        "  \r\n",
        "  def function_name(arguments): # arguments => Optional \r\n",
        "    # Code\r\n",
        "    return variable\r\n",
        "\r\n",
        "\r\n",
        "# Function Call\r\n",
        "function_name()\r\n",
        "```"
      ]
    },
    {
      "cell_type": "markdown",
      "metadata": {
        "id": "Q7x2FwB7hnOc"
      },
      "source": [
        "1. Function Without Arg"
      ]
    },
    {
      "cell_type": "code",
      "metadata": {
        "colab": {
          "base_uri": "https://localhost:8080/"
        },
        "id": "qSbzrs5Mht7F",
        "outputId": "e08a130f-1e2f-4892-e981-fb5dbf5c2001"
      },
      "source": [
        "def greet():\r\n",
        "  print(\"Welcome\")\r\n",
        "\r\n",
        "greet()  "
      ],
      "execution_count": null,
      "outputs": [
        {
          "output_type": "stream",
          "text": [
            "Welcome\n"
          ],
          "name": "stdout"
        }
      ]
    },
    {
      "cell_type": "markdown",
      "metadata": {
        "id": "tL46GZPGh939"
      },
      "source": [
        "2. Function with Postional Arg"
      ]
    },
    {
      "cell_type": "code",
      "metadata": {
        "colab": {
          "base_uri": "https://localhost:8080/"
        },
        "id": "FD557kIeiI-f",
        "outputId": "570f17bf-5667-44e1-db74-42bf1eeb06a4"
      },
      "source": [
        "def print_name(name) -> str:\r\n",
        "  print(f\"Heartly Welcome! {name}\")\r\n",
        "\r\n",
        "\r\n",
        "print_name('Black Pearl')"
      ],
      "execution_count": null,
      "outputs": [
        {
          "output_type": "stream",
          "text": [
            "Heartly Welcome! Black Pearl\n"
          ],
          "name": "stdout"
        }
      ]
    },
    {
      "cell_type": "markdown",
      "metadata": {
        "id": "sxL7P_zRjNAp"
      },
      "source": [
        "3. returning value "
      ]
    },
    {
      "cell_type": "code",
      "metadata": {
        "colab": {
          "base_uri": "https://localhost:8080/"
        },
        "id": "bcLzAJrMjUtu",
        "outputId": "64b86b45-49c5-4091-ba51-8b54a5ea5684"
      },
      "source": [
        "def add(num1,num2):\r\n",
        "  return (num1+num2)\r\n",
        "\r\n",
        "result = add(10,15)\r\n",
        "print(result)\r\n",
        "result=add(num2=10,num1=40)\r\n",
        "print(result)\r\n"
      ],
      "execution_count": null,
      "outputs": [
        {
          "output_type": "stream",
          "text": [
            "25\n",
            "50\n"
          ],
          "name": "stdout"
        }
      ]
    },
    {
      "cell_type": "code",
      "metadata": {
        "colab": {
          "base_uri": "https://localhost:8080/"
        },
        "id": "xqAR7kzwkKRB",
        "outputId": "85240a2f-a2fb-4868-8908-b79bac3f8270"
      },
      "source": [
        "def calc(x,y):\r\n",
        "  add = x + y\r\n",
        "  sub = x - y\r\n",
        "  mul = x * y\r\n",
        "  div = x / y\r\n",
        "  rem = x % y\r\n",
        "\r\n",
        "  return add ,sub , mul , div , rem\r\n",
        "\r\n",
        "\r\n",
        "num1 , num2 = 10 , 5\r\n",
        "Result = calc(y=num2,x=num1)\r\n",
        "print(Result) # printed in tuple format\r\n",
        "\r\n",
        "Add , Sub , Mul, Div , Rem = calc(x=num1,y=num2)\r\n",
        "print(Add , Sub , Mul, Div , Rem )\r\n",
        "\r\n",
        "\r\n"
      ],
      "execution_count": null,
      "outputs": [
        {
          "output_type": "stream",
          "text": [
            "(15, 5, 50, 2.0, 0)\n",
            "15 5 50 2.0 0\n"
          ],
          "name": "stdout"
        }
      ]
    },
    {
      "cell_type": "markdown",
      "metadata": {
        "id": "inpXUcI-l-Xw"
      },
      "source": [
        "4. Function with default arg"
      ]
    },
    {
      "cell_type": "code",
      "metadata": {
        "colab": {
          "base_uri": "https://localhost:8080/"
        },
        "id": "1-FZYU2HmGfv",
        "outputId": "37b078a5-085d-45b5-90c9-6d614c04ab91"
      },
      "source": [
        "# pi = default\r\n",
        "def area(radius , pi=3.14):\r\n",
        "  return pi * radius**2\r\n",
        "\r\n",
        "\r\n",
        "print(area(10))\r\n",
        "print(area(10,2))"
      ],
      "execution_count": null,
      "outputs": [
        {
          "output_type": "stream",
          "text": [
            "314.0\n",
            "200\n"
          ],
          "name": "stdout"
        }
      ]
    },
    {
      "cell_type": "markdown",
      "metadata": {
        "id": "t1moxUrQnMba"
      },
      "source": [
        "5. Keyworded argument"
      ]
    },
    {
      "cell_type": "code",
      "metadata": {
        "colab": {
          "base_uri": "https://localhost:8080/"
        },
        "id": "TQHTMnYJnTMw",
        "outputId": "29768ad3-0325-438a-bd53-7b9b37c93672"
      },
      "source": [
        "def printval(x,y):\r\n",
        "  print(\"x\",x)\r\n",
        "  print(\"y\",y)\r\n",
        "\r\n",
        "printval(777,999)\r\n",
        "printval(y=777,x=999)"
      ],
      "execution_count": null,
      "outputs": [
        {
          "output_type": "stream",
          "text": [
            "x 777\n",
            "y 999\n",
            "x 999\n",
            "y 777\n"
          ],
          "name": "stdout"
        }
      ]
    },
    {
      "cell_type": "markdown",
      "metadata": {
        "id": "z1rIJSd_oEtG"
      },
      "source": [
        "6. Variable length argument"
      ]
    },
    {
      "cell_type": "code",
      "metadata": {
        "colab": {
          "base_uri": "https://localhost:8080/"
        },
        "id": "Lq7uCl8ZoNGT",
        "outputId": "5283cc7a-cbaf-419a-e04c-637ee3f48268"
      },
      "source": [
        "# *value = *arg\r\n",
        "\r\n",
        "def multi_value(*value):\r\n",
        "  print(value)\r\n",
        "  print(*value)\r\n",
        "  print(f\"Addition of value : {sum(value)}\\n\")\r\n",
        "  for x in value:\r\n",
        "    print(f\"Square of value {x}: {x**2}\")\r\n",
        "\r\n",
        "multi_value(1,2,3,4,5)"
      ],
      "execution_count": null,
      "outputs": [
        {
          "output_type": "stream",
          "text": [
            "(1, 2, 3, 4, 5)\n",
            "1 2 3 4 5\n",
            "Addition of value : 15\n",
            "\n",
            "Square of value 1: 1\n",
            "Square of value 2: 4\n",
            "Square of value 3: 9\n",
            "Square of value 4: 16\n",
            "Square of value 5: 25\n"
          ],
          "name": "stdout"
        }
      ]
    },
    {
      "cell_type": "markdown",
      "metadata": {
        "id": "4eb8kWq5qJ6p"
      },
      "source": [
        "7. **kwargs = keyword length arguments"
      ]
    },
    {
      "cell_type": "code",
      "metadata": {
        "colab": {
          "base_uri": "https://localhost:8080/"
        },
        "id": "ncKO_iWHqS1i",
        "outputId": "d11dcf67-b12f-4b86-a4a9-d58bd3541519"
      },
      "source": [
        "def List(**items):\r\n",
        "  print(items) # Return DICT\r\n",
        "  \r\n",
        "  print(*items) # Return Key  \r\n",
        "  \r\n",
        "  print(items['apple'])\r\n",
        "\r\n",
        "  print(items)\r\n",
        "\r\n",
        "\r\n",
        "List(apple=2,manjo=6,lemon=4)"
      ],
      "execution_count": null,
      "outputs": [
        {
          "output_type": "stream",
          "text": [
            "{'apple': 2, 'manjo': 6, 'lemon': 4}\n",
            "apple manjo lemon\n",
            "2\n",
            "{'apple': 2, 'manjo': 6, 'lemon': 4}\n"
          ],
          "name": "stdout"
        }
      ]
    },
    {
      "cell_type": "markdown",
      "metadata": {
        "id": "-p2iOi5esKuj"
      },
      "source": [
        "_**\\*args and **kwargs**_"
      ]
    },
    {
      "cell_type": "code",
      "metadata": {
        "colab": {
          "base_uri": "https://localhost:8080/"
        },
        "id": "c92ILVcGsenq",
        "outputId": "bb879399-66af-4820-a24d-d21a00abe6c2"
      },
      "source": [
        "def func(*args,**kwargs):\r\n",
        "  print(args) # Tuple\r\n",
        "  print(kwargs) # Dict\r\n",
        "\r\n",
        "func(1,2,3,4,a=10,b=20,c=30,d=40)"
      ],
      "execution_count": null,
      "outputs": [
        {
          "output_type": "stream",
          "text": [
            "(1, 2, 3, 4)\n",
            "{'a': 10, 'b': 20, 'c': 30, 'd': 40}\n"
          ],
          "name": "stdout"
        }
      ]
    },
    {
      "cell_type": "markdown",
      "metadata": {
        "id": "KP3ih84KwK1c"
      },
      "source": [
        "\r\n",
        "\r\n",
        "---\r\n",
        "\r\n"
      ]
    },
    {
      "cell_type": "markdown",
      "metadata": {
        "id": "fLIWaqGywP7U"
      },
      "source": [
        "# Recursive Function:\r\n",
        "\r\n",
        "Function calling itself..\r\n",
        "\r\n",
        "- Base Case ==> Terminating from recursive\r\n",
        "- Recursive Case ==> Calling itself"
      ]
    },
    {
      "cell_type": "markdown",
      "metadata": {
        "id": "HijVTA12xApE"
      },
      "source": [
        "Example\r\n",
        "\r\n",
        "1.   Factorial\r\n",
        "\r\n",
        "Stack memory\r\n",
        "\r\n",
        "LIFO (last in first out )\r\n",
        "\r\n",
        "n = 5\r\n",
        "\r\n",
        "5 *fact(4) = 5*24 = 120\r\n",
        "\r\n",
        "4 *fact(3) = 4*6 = 24\r\n",
        "\r\n",
        "3 *fact(2) = 3*2 = 6\r\n",
        "\r\n",
        "2 *fact(1) = 2*1 = 2\r\n",
        "\r\n",
        "fact(1) = 1\r\n",
        "\r\n"
      ]
    },
    {
      "cell_type": "code",
      "metadata": {
        "colab": {
          "base_uri": "https://localhost:8080/"
        },
        "id": "kAMKJagQwzyS",
        "outputId": "336b3ae4-2f5b-481f-a3cb-2829f312dd9c"
      },
      "source": [
        "def fact(n):\r\n",
        "  if n==0 or n==1:\r\n",
        "    return 1\r\n",
        "  else:\r\n",
        "    return n*fact(n-1)\r\n",
        "n = int(input('Enter the number : '))\r\n",
        "res = fact(n)\r\n",
        "print(f\"Factorial of {n} is {res}\")"
      ],
      "execution_count": null,
      "outputs": [
        {
          "output_type": "stream",
          "text": [
            "Enter the number : 6\n",
            "Factorial of 6 is 720\n"
          ],
          "name": "stdout"
        }
      ]
    },
    {
      "cell_type": "markdown",
      "metadata": {
        "id": "sWIexmU30ars"
      },
      "source": [
        "2. Sum of digits\r\n",
        "\r\n",
        "eg:\r\n",
        "\r\n",
        "n=1234\r\n",
        "\r\n",
        "= 1 + 2 + 3 + 4\r\n",
        "\r\n",
        "= 10\r\n",
        "\r\n",
        "\r\n",
        "\r\n",
        "Logic\r\n",
        "\r\n",
        "1234%10 + sod(1234//10) = 4 + sod(123) = 4 + 6 = 10\r\n",
        "123%10 + sod(123//10)   = 3 + sod(12)  = 3+3   = 6\r\n",
        "12%10 + sod(12//10)     = 2 + sod(1)   = 2+1   = 3\r\n",
        "1%10 + sod(1//10)       = 1 + sod(0)   = 1\r\n",
        "0\r\n"
      ]
    },
    {
      "cell_type": "code",
      "metadata": {
        "colab": {
          "base_uri": "https://localhost:8080/"
        },
        "id": "ySYFAJko0ofc",
        "outputId": "b461b2e3-78f9-4f36-dcec-8c424cb80011"
      },
      "source": [
        "def sod(n):\r\n",
        "  if n == 0:\r\n",
        "    return 0\r\n",
        "  else:\r\n",
        "    return n%10 + sod(n//10)\r\n",
        "n = int(input(\"Enter the number : \"))\r\n",
        "res = sod(n)\r\n",
        "print(f\"Sum of digits {n} : {res} \")"
      ],
      "execution_count": null,
      "outputs": [
        {
          "output_type": "stream",
          "text": [
            "Enter the number : 1234\n",
            "Sum of digits 1234 : 10 \n"
          ],
          "name": "stdout"
        }
      ]
    },
    {
      "cell_type": "markdown",
      "metadata": {
        "id": "Svcxy6IX9uu8"
      },
      "source": [
        "# Lambda Function / Anonymous Function\r\n",
        "\r\n",
        "function\r\n",
        "\r\n",
        "```python\r\n",
        "def function_name():\r\n",
        "  #code\r\n",
        "  return statement\r\n",
        "```\r\n",
        "\r\n",
        "lambda function\r\n",
        "\r\n",
        "```python\r\n",
        "\r\n",
        "variable(fun-obj) = lambda arguments : expression\r\n",
        "```\r\n",
        "\r\n",
        "\r\n",
        "- Not defined by def keyword Function returns a object one-line funtions Can take any no of arguments can't access _**global**_ variables\r\n",
        "\r\n",
        "- Function does not any name ..\r\n",
        "\r\n",
        "- Defined by **_Lambda_** keyword\r\n",
        "\r\n",
        "\r\n"
      ]
    },
    {
      "cell_type": "code",
      "metadata": {
        "colab": {
          "base_uri": "https://localhost:8080/"
        },
        "id": "4hldGHPZ-bAP",
        "outputId": "6f976f5c-2ae9-4c32-b581-f4728f316d4e"
      },
      "source": [
        "# Sum of no\r\n",
        "\r\n",
        "def sum(x,y):\r\n",
        "  return x + y\r\n",
        "\r\n",
        "res = sum(2,3)  \r\n",
        "print(\"Sum : \",res)"
      ],
      "execution_count": null,
      "outputs": [
        {
          "output_type": "stream",
          "text": [
            "Sum :  5\n"
          ],
          "name": "stdout"
        }
      ]
    },
    {
      "cell_type": "code",
      "metadata": {
        "colab": {
          "base_uri": "https://localhost:8080/"
        },
        "id": "yKyCkI4e_kg6",
        "outputId": "b0ddfc31-08a2-4837-b092-f1e31dd3ef1b"
      },
      "source": [
        "sum = lambda x,y : x+y\r\n",
        "print(\"Sum : \",sum(55,45))"
      ],
      "execution_count": null,
      "outputs": [
        {
          "output_type": "stream",
          "text": [
            "Sum :  100\n"
          ],
          "name": "stdout"
        }
      ]
    },
    {
      "cell_type": "code",
      "metadata": {
        "colab": {
          "base_uri": "https://localhost:8080/"
        },
        "id": "2heqO4d3_8he",
        "outputId": "83145716-4171-4ccd-f486-a8af9d7aec09"
      },
      "source": [
        "square  = lambda x : x*x\r\n",
        "print(\"Square : \",square(5))"
      ],
      "execution_count": null,
      "outputs": [
        {
          "output_type": "stream",
          "text": [
            "Square :  25\n"
          ],
          "name": "stdout"
        }
      ]
    },
    {
      "cell_type": "markdown",
      "metadata": {
        "id": "hzTR0a6DDH24"
      },
      "source": [
        "# Map Function\r\n",
        "\r\n",
        "```python\r\n",
        "\r\n",
        "map(function ,sequence)\r\n",
        "\r\n",
        "```      "
      ]
    },
    {
      "cell_type": "code",
      "metadata": {
        "colab": {
          "base_uri": "https://localhost:8080/"
        },
        "id": "gya_vPVXDc5p",
        "outputId": "ea539708-1b28-458c-910b-35a77cf54734"
      },
      "source": [
        "def square(n):\r\n",
        "  return n**2\r\n",
        "List = [1,2,3,4,5]\r\n",
        "Result = []\r\n",
        "for sq in List:\r\n",
        "  Result.append(square(sq))\r\n",
        "print(Result)  "
      ],
      "execution_count": null,
      "outputs": [
        {
          "output_type": "stream",
          "text": [
            "[1, 4, 9, 16, 25]\n"
          ],
          "name": "stdout"
        }
      ]
    },
    {
      "cell_type": "code",
      "metadata": {
        "colab": {
          "base_uri": "https://localhost:8080/"
        },
        "id": "x9iyDplQD7nw",
        "outputId": "4595d5d6-89b3-40bd-d814-769e006f7bdf"
      },
      "source": [
        "def square(n):\r\n",
        "  return n**2\r\n",
        "\r\n",
        "List = [1,2,3,4,5]  \r\n",
        "\r\n",
        "Result = map(square,List)\r\n",
        "print(Result)\r\n",
        "\r\n",
        "ListResult = list(map(square,List))\r\n",
        "print(ListResult)\r\n"
      ],
      "execution_count": null,
      "outputs": [
        {
          "output_type": "stream",
          "text": [
            "<map object at 0x7efc5166b128>\n",
            "[1, 4, 9, 16, 25]\n"
          ],
          "name": "stdout"
        }
      ]
    },
    {
      "cell_type": "code",
      "metadata": {
        "colab": {
          "base_uri": "https://localhost:8080/"
        },
        "id": "Wyrdy0frFIr4",
        "outputId": "8d6a70f7-be02-4411-9fee-7ce4bc742f2c"
      },
      "source": [
        "List = [1,2,3,4,5] \r\n",
        "Result = map(lambda x:x**2,List)\r\n",
        "print(*Result)"
      ],
      "execution_count": null,
      "outputs": [
        {
          "output_type": "stream",
          "text": [
            "1 4 9 16 25\n"
          ],
          "name": "stdout"
        }
      ]
    },
    {
      "cell_type": "markdown",
      "metadata": {
        "id": "B6LRolJXFzR4"
      },
      "source": [
        "map(function ,sequence)\r\n",
        "\r\n",
        "sequence = multiple argument"
      ]
    },
    {
      "cell_type": "code",
      "metadata": {
        "colab": {
          "base_uri": "https://localhost:8080/"
        },
        "id": "p0AQpZqnF7Jq",
        "outputId": "e52f7543-60d7-4aac-e9e9-64640a53958a"
      },
      "source": [
        "List_1 = [1,2,3]\r\n",
        "List_2 = [1,1,1]\r\n",
        "\r\n",
        "Result = tuple( map(lambda x , y : x + y,List_1, List_2))\r\n",
        "print(Result)\r\n"
      ],
      "execution_count": null,
      "outputs": [
        {
          "output_type": "stream",
          "text": [
            "(2, 3, 4)\n"
          ],
          "name": "stdout"
        }
      ]
    },
    {
      "cell_type": "markdown",
      "metadata": {
        "id": "nxDnPAVVGu-U"
      },
      "source": [
        "# Filter and Reduce Function\r\n",
        "\r\n"
      ]
    },
    {
      "cell_type": "markdown",
      "metadata": {
        "id": "hgsG3mtfG_LB"
      },
      "source": [
        "Example\r\n",
        "\r\n",
        "1. Display even no in range (1 to 10)"
      ]
    },
    {
      "cell_type": "code",
      "metadata": {
        "colab": {
          "base_uri": "https://localhost:8080/"
        },
        "id": "-fpDLKY6Hbk7",
        "outputId": "a769b22b-1309-485c-d6fb-54699e8360d9"
      },
      "source": [
        "for ev in range(1,11):\r\n",
        "  if ev%2==0:\r\n",
        "    print(ev)"
      ],
      "execution_count": null,
      "outputs": [
        {
          "output_type": "stream",
          "text": [
            "2\n",
            "4\n",
            "6\n",
            "8\n",
            "10\n"
          ],
          "name": "stdout"
        }
      ]
    },
    {
      "cell_type": "markdown",
      "metadata": {
        "id": "N4FAr1n8JEK0"
      },
      "source": [
        "Filter function\r\n",
        "\r\n",
        "_Syntax_\r\n",
        "\r\n",
        "```python\r\n",
        "\r\n",
        "filter(function , *iterable)\r\n",
        "```"
      ]
    },
    {
      "cell_type": "code",
      "metadata": {
        "colab": {
          "base_uri": "https://localhost:8080/"
        },
        "id": "5-ckCl8JHHmW",
        "outputId": "903356b1-91a3-4642-ff65-56078afd3bcc"
      },
      "source": [
        "Even = filter(lambda x :x%2==0 , range(1,11))\r\n",
        "print(Even)\r\n",
        "\r\n",
        "\r\n",
        "Even = list(map(lambda x :x%2==0 , range(1,11)))\r\n",
        "print(Even)\r\n",
        "\r\n",
        "\r\n",
        "Even = list(filter(lambda x :x%2==0 , range(1,11)))\r\n",
        "print(Even)\r\n"
      ],
      "execution_count": null,
      "outputs": [
        {
          "output_type": "stream",
          "text": [
            "<filter object at 0x7efc516802b0>\n",
            "[False, True, False, True, False, True, False, True, False, True]\n",
            "[2, 4, 6, 8, 10]\n"
          ],
          "name": "stdout"
        }
      ]
    },
    {
      "cell_type": "code",
      "metadata": {
        "colab": {
          "base_uri": "https://localhost:8080/"
        },
        "id": "3CCDxf07MK4Z",
        "outputId": "516b6851-ed5f-40df-8656-7479fe771b5b"
      },
      "source": [
        "Odd = list(map(lambda x : not x%2==0 , range(1,11)))\r\n",
        "print(Odd)\r\n",
        "\r\n",
        "Odd = list(filter(lambda x : not x%2==0 , range(1,11)))\r\n",
        "print(Odd)\r\n"
      ],
      "execution_count": null,
      "outputs": [
        {
          "output_type": "stream",
          "text": [
            "[True, False, True, False, True, False, True, False, True, False]\n",
            "[1, 3, 5, 7, 9]\n"
          ],
          "name": "stdout"
        }
      ]
    },
    {
      "cell_type": "markdown",
      "metadata": {
        "id": "dwNqz1FPMsKi"
      },
      "source": [
        "# Reduce Function"
      ]
    },
    {
      "cell_type": "markdown",
      "metadata": {
        "id": "4kXoG5KrMr82"
      },
      "source": [
        "_Syntax_\r\n",
        "\r\n",
        "```python\r\n",
        "\r\n",
        "reduce(func , iterables)\r\n",
        "\r\n",
        "```"
      ]
    },
    {
      "cell_type": "markdown",
      "metadata": {
        "id": "1VfGktc1NrZ-"
      },
      "source": [
        "Reduce function working\r\n",
        "\r\n",
        "x,y\r\n",
        "1 + 2  = 3\r\n",
        "3 + 3  = 6\r\n",
        "6 + 4  = 10\r\n",
        "10 + 5 = 15\r\n"
      ]
    },
    {
      "cell_type": "code",
      "metadata": {
        "colab": {
          "base_uri": "https://localhost:8080/"
        },
        "id": "eBmmBYyHMqrG",
        "outputId": "0fc5ff47-9a66-4834-cbd2-30d9e9da8209"
      },
      "source": [
        "import functools\r\n",
        "\r\n",
        "List = [1,2,3,4,5] # Sum of elements in list\r\n",
        "\r\n",
        "sum = functools.reduce(lambda x , y : x + y,List)\r\n",
        "print(sum)"
      ],
      "execution_count": null,
      "outputs": [
        {
          "output_type": "stream",
          "text": [
            "15\n"
          ],
          "name": "stdout"
        }
      ]
    },
    {
      "cell_type": "markdown",
      "metadata": {
        "id": "Vlofe0WhOIS6"
      },
      "source": [
        "\r\n",
        "\r\n",
        "---\r\n",
        "\r\n"
      ]
    },
    {
      "cell_type": "markdown",
      "metadata": {
        "id": "e8RmWkWVOKiV"
      },
      "source": [
        ""
      ]
    },
    {
      "cell_type": "code",
      "metadata": {
        "colab": {
          "base_uri": "https://localhost:8080/"
        },
        "id": "M0gjsz90OPO-",
        "outputId": "3f2822e6-cd1a-42de-c93a-f5ca7466640f"
      },
      "source": [
        "print(__name__)\r\n"
      ],
      "execution_count": null,
      "outputs": [
        {
          "output_type": "stream",
          "text": [
            "__main__\n"
          ],
          "name": "stdout"
        }
      ]
    },
    {
      "cell_type": "code",
      "metadata": {
        "colab": {
          "base_uri": "https://localhost:8080/"
        },
        "id": "JIBDg3sxOaZA",
        "outputId": "4be47d7d-c52e-4176-b383-dafc1500816a"
      },
      "source": [
        "# calculator\r\n",
        "\r\n",
        "def add(a,b):\r\n",
        "  return a + b\r\n",
        "def sub(a,b):\r\n",
        "  return a - b\r\n",
        "def mul(a,b):\r\n",
        "  return a * b\r\n",
        "\r\n",
        "print(__name__)  \r\n",
        "print(add(a=2,b=3))\r\n",
        "print(mul(a=2,b=3))\r\n"
      ],
      "execution_count": null,
      "outputs": [
        {
          "output_type": "stream",
          "text": [
            "__main__\n",
            "5\n",
            "6\n"
          ],
          "name": "stdout"
        }
      ]
    },
    {
      "cell_type": "code",
      "metadata": {
        "colab": {
          "base_uri": "https://localhost:8080/"
        },
        "id": "54OnRU7JPISK",
        "outputId": "edea70c7-5e50-4829-e833-c62dbe43584d"
      },
      "source": [
        "if __name__ == '__main__':\r\n",
        "  print(__name__)  \r\n",
        "  print(add(a=2,b=3))\r\n",
        "  print(mul(a=2,b=3))\r\n"
      ],
      "execution_count": null,
      "outputs": [
        {
          "output_type": "stream",
          "text": [
            "__main__\n",
            "5\n",
            "6\n"
          ],
          "name": "stdout"
        }
      ]
    },
    {
      "cell_type": "markdown",
      "metadata": {
        "id": "4qcmYmHmSaCT"
      },
      "source": [
        "\r\n",
        "\r\n",
        "---\r\n",
        "\r\n"
      ]
    },
    {
      "cell_type": "markdown",
      "metadata": {
        "id": "aar8trTYSq50"
      },
      "source": [
        "# Math module"
      ]
    },
    {
      "cell_type": "code",
      "metadata": {
        "colab": {
          "base_uri": "https://localhost:8080/"
        },
        "id": "tpmEqw1aTO6C",
        "outputId": "481f1c46-f5b5-43a7-8b82-e8fe822e5914"
      },
      "source": [
        "import math\r\n",
        "\r\n",
        "# method of math\r\n",
        "\r\n",
        "print(dir(math))"
      ],
      "execution_count": null,
      "outputs": [
        {
          "output_type": "stream",
          "text": [
            "['__doc__', '__loader__', '__name__', '__package__', '__spec__', 'acos', 'acosh', 'asin', 'asinh', 'atan', 'atan2', 'atanh', 'ceil', 'copysign', 'cos', 'cosh', 'degrees', 'e', 'erf', 'erfc', 'exp', 'expm1', 'fabs', 'factorial', 'floor', 'fmod', 'frexp', 'fsum', 'gamma', 'gcd', 'hypot', 'inf', 'isclose', 'isfinite', 'isinf', 'isnan', 'ldexp', 'lgamma', 'log', 'log10', 'log1p', 'log2', 'modf', 'nan', 'pi', 'pow', 'radians', 'sin', 'sinh', 'sqrt', 'tan', 'tanh', 'tau', 'trunc']\n"
          ],
          "name": "stdout"
        }
      ]
    },
    {
      "cell_type": "code",
      "metadata": {
        "colab": {
          "base_uri": "https://localhost:8080/"
        },
        "id": "dqDhSbBTTjii",
        "outputId": "c03ca5d1-aeb1-4415-9c0b-ec2c619ebda2"
      },
      "source": [
        "num = 5.4\r\n",
        "print(math.floor(num)) # min int val"
      ],
      "execution_count": null,
      "outputs": [
        {
          "output_type": "stream",
          "text": [
            "5\n"
          ],
          "name": "stdout"
        }
      ]
    },
    {
      "cell_type": "code",
      "metadata": {
        "colab": {
          "base_uri": "https://localhost:8080/"
        },
        "id": "Nt97xSIcTzQE",
        "outputId": "573394ca-b743-48cb-ade4-e4ef05caebc7"
      },
      "source": [
        "print(math.ceil(num)) # max int val"
      ],
      "execution_count": null,
      "outputs": [
        {
          "output_type": "stream",
          "text": [
            "6\n"
          ],
          "name": "stdout"
        }
      ]
    },
    {
      "cell_type": "code",
      "metadata": {
        "colab": {
          "base_uri": "https://localhost:8080/"
        },
        "id": "v9BiqlBjT9_X",
        "outputId": "db23e31a-cef0-4b89-c634-44736d7096db"
      },
      "source": [
        "# factorial\r\n",
        "num = 5\r\n",
        "print(math.factorial(num))"
      ],
      "execution_count": null,
      "outputs": [
        {
          "output_type": "stream",
          "text": [
            "120\n"
          ],
          "name": "stdout"
        }
      ]
    },
    {
      "cell_type": "code",
      "metadata": {
        "colab": {
          "base_uri": "https://localhost:8080/"
        },
        "id": "v9JJHUVmUOoC",
        "outputId": "37d1f2be-405a-46c1-c549-3f4e7f760c85"
      },
      "source": [
        "# GCD\r\n",
        "\r\n",
        "print(math.gcd(4,2))"
      ],
      "execution_count": null,
      "outputs": [
        {
          "output_type": "stream",
          "text": [
            "2\n"
          ],
          "name": "stdout"
        }
      ]
    },
    {
      "cell_type": "code",
      "metadata": {
        "colab": {
          "base_uri": "https://localhost:8080/"
        },
        "id": "67St-YKsUZfE",
        "outputId": "3c86b0ab-ed54-4bdd-99c7-b7d2e0180b26"
      },
      "source": [
        "# sqrt\r\n",
        "\r\n",
        "print(math.sqrt(2))"
      ],
      "execution_count": null,
      "outputs": [
        {
          "output_type": "stream",
          "text": [
            "1.4142135623730951\n"
          ],
          "name": "stdout"
        }
      ]
    },
    {
      "cell_type": "code",
      "metadata": {
        "colab": {
          "base_uri": "https://localhost:8080/",
          "height": 190
        },
        "id": "dXPgLyAyUnJu",
        "outputId": "205e19b1-dbb3-444e-9620-371c28588496"
      },
      "source": [
        "# isqrt = return integer value only\r\n",
        "print(math.isqrt(2))"
      ],
      "execution_count": null,
      "outputs": [
        {
          "output_type": "error",
          "ename": "AttributeError",
          "evalue": "ignored",
          "traceback": [
            "\u001b[0;31m---------------------------------------------------------------------------\u001b[0m",
            "\u001b[0;31mAttributeError\u001b[0m                            Traceback (most recent call last)",
            "\u001b[0;32m<ipython-input-117-acca49c14ac6>\u001b[0m in \u001b[0;36m<module>\u001b[0;34m()\u001b[0m\n\u001b[1;32m      1\u001b[0m \u001b[0;31m# isqrt = return integer value only\u001b[0m\u001b[0;34m\u001b[0m\u001b[0;34m\u001b[0m\u001b[0;34m\u001b[0m\u001b[0m\n\u001b[0;32m----> 2\u001b[0;31m \u001b[0mprint\u001b[0m\u001b[0;34m(\u001b[0m\u001b[0mmath\u001b[0m\u001b[0;34m.\u001b[0m\u001b[0misqrt\u001b[0m\u001b[0;34m(\u001b[0m\u001b[0;36m2\u001b[0m\u001b[0;34m)\u001b[0m\u001b[0;34m)\u001b[0m\u001b[0;34m\u001b[0m\u001b[0;34m\u001b[0m\u001b[0m\n\u001b[0m",
            "\u001b[0;31mAttributeError\u001b[0m: module 'math' has no attribute 'isqrt'"
          ]
        }
      ]
    },
    {
      "cell_type": "code",
      "metadata": {
        "colab": {
          "base_uri": "https://localhost:8080/"
        },
        "id": "mstMWrQeVK4J",
        "outputId": "7c4e778f-51cc-43fe-c25f-27d9e025d660"
      },
      "source": [
        "print(math.floor(math.sqrt(2)))"
      ],
      "execution_count": null,
      "outputs": [
        {
          "output_type": "stream",
          "text": [
            "1\n"
          ],
          "name": "stdout"
        }
      ]
    },
    {
      "cell_type": "code",
      "metadata": {
        "colab": {
          "base_uri": "https://localhost:8080/"
        },
        "id": "dgw3fAP_V-Ci",
        "outputId": "bcec4f47-d1f9-42ac-c26b-58345135ee66"
      },
      "source": [
        "# Exponental\r\n",
        "# e^val\r\n",
        "print(math.exp(3))"
      ],
      "execution_count": null,
      "outputs": [
        {
          "output_type": "stream",
          "text": [
            "20.085536923187668\n"
          ],
          "name": "stdout"
        }
      ]
    },
    {
      "cell_type": "code",
      "metadata": {
        "colab": {
          "base_uri": "https://localhost:8080/"
        },
        "id": "kxH9lITuWPTx",
        "outputId": "2e500e7e-ee58-4d66-9260-853b1dda8005"
      },
      "source": [
        "# Module\r\n",
        "# math.fmod(x,y)\r\n",
        "print(math.fmod(10,3)) # x > y => Reminder"
      ],
      "execution_count": null,
      "outputs": [
        {
          "output_type": "stream",
          "text": [
            "1.0\n"
          ],
          "name": "stdout"
        }
      ]
    },
    {
      "cell_type": "code",
      "metadata": {
        "colab": {
          "base_uri": "https://localhost:8080/"
        },
        "id": "erK2inzbWvhv",
        "outputId": "4c729766-4d1b-430b-8796-dcdb82c88be7"
      },
      "source": [
        "print(math.fmod(3,10)) # x < y => x"
      ],
      "execution_count": null,
      "outputs": [
        {
          "output_type": "stream",
          "text": [
            "3.0\n"
          ],
          "name": "stdout"
        }
      ]
    },
    {
      "cell_type": "code",
      "metadata": {
        "colab": {
          "base_uri": "https://localhost:8080/"
        },
        "id": "tcEGQLUCW8rM",
        "outputId": "c456a219-335e-46e7-febf-15e1481cb91d"
      },
      "source": [
        "# copysign\r\n",
        "\r\n",
        "x = 5\r\n",
        "y = -6\r\n",
        "\r\n",
        "# copy of y sign to x val\r\n",
        "print(math.copysign(x,y))"
      ],
      "execution_count": null,
      "outputs": [
        {
          "output_type": "stream",
          "text": [
            "-5.0\n"
          ],
          "name": "stdout"
        }
      ]
    },
    {
      "cell_type": "code",
      "metadata": {
        "colab": {
          "base_uri": "https://localhost:8080/"
        },
        "id": "8HqGrZqxXY2g",
        "outputId": "1e871379-cba3-4587-b02a-d7bf343c43bc"
      },
      "source": [
        "# difference\r\n",
        "\r\n",
        "print(4-5)"
      ],
      "execution_count": null,
      "outputs": [
        {
          "output_type": "stream",
          "text": [
            "-1\n"
          ],
          "name": "stdout"
        }
      ]
    },
    {
      "cell_type": "code",
      "metadata": {
        "colab": {
          "base_uri": "https://localhost:8080/"
        },
        "id": "Ir9UcQnHXlBD",
        "outputId": "7849f550-7a33-43c1-fae6-98d3c2041666"
      },
      "source": [
        "# fabs\r\n",
        "\r\n",
        "x = 5\r\n",
        "y = -6\r\n",
        "\r\n",
        "print(math.fabs(x-y))"
      ],
      "execution_count": null,
      "outputs": [
        {
          "output_type": "stream",
          "text": [
            "11.0\n"
          ],
          "name": "stdout"
        }
      ]
    },
    {
      "cell_type": "code",
      "metadata": {
        "colab": {
          "base_uri": "https://localhost:8080/"
        },
        "id": "iOXXUfeWX4gE",
        "outputId": "5745b6cb-e240-4284-e607-08b1a91407d9"
      },
      "source": [
        "x = 4\r\n",
        "y = 5\r\n",
        "\r\n",
        "print(math.fabs(x - y))"
      ],
      "execution_count": null,
      "outputs": [
        {
          "output_type": "stream",
          "text": [
            "1.0\n"
          ],
          "name": "stdout"
        }
      ]
    },
    {
      "cell_type": "code",
      "metadata": {
        "colab": {
          "base_uri": "https://localhost:8080/"
        },
        "id": "_HhUe5L0YFuM",
        "outputId": "294d4923-d4a0-4c9f-ff3a-10d0d45bc798"
      },
      "source": [
        "# pow(2^3)\r\n",
        "\r\n",
        "print(math.pow(2,3))"
      ],
      "execution_count": null,
      "outputs": [
        {
          "output_type": "stream",
          "text": [
            "8.0\n"
          ],
          "name": "stdout"
        }
      ]
    },
    {
      "cell_type": "code",
      "metadata": {
        "colab": {
          "base_uri": "https://localhost:8080/"
        },
        "id": "T0_Tyl-XYWcU",
        "outputId": "173de7f6-d8ce-4bac-9ea2-df5880b20b7d"
      },
      "source": [
        "# list access in math\r\n",
        "# fsum\r\n",
        "\r\n",
        "List = [1,2,3,4,5]\r\n",
        "print(math.fsum(List))"
      ],
      "execution_count": null,
      "outputs": [
        {
          "output_type": "stream",
          "text": [
            "15.0\n"
          ],
          "name": "stdout"
        }
      ]
    },
    {
      "cell_type": "code",
      "metadata": {
        "colab": {
          "base_uri": "https://localhost:8080/",
          "height": 208
        },
        "id": "0cOohYGCYl1x",
        "outputId": "d512a117-5137-47ce-8d9f-166ddc0706d6"
      },
      "source": [
        "# prod\r\n",
        "\r\n",
        "# [1*1 , 1*2 , 2*3 , ......]\r\n",
        "List = [1,2,3,4,5]\r\n",
        "\r\n",
        "print(math.prod(List))"
      ],
      "execution_count": null,
      "outputs": [
        {
          "output_type": "error",
          "ename": "AttributeError",
          "evalue": "ignored",
          "traceback": [
            "\u001b[0;31m---------------------------------------------------------------------------\u001b[0m",
            "\u001b[0;31mAttributeError\u001b[0m                            Traceback (most recent call last)",
            "\u001b[0;32m<ipython-input-128-465c31246ffe>\u001b[0m in \u001b[0;36m<module>\u001b[0;34m()\u001b[0m\n\u001b[1;32m      3\u001b[0m \u001b[0mList\u001b[0m \u001b[0;34m=\u001b[0m \u001b[0;34m[\u001b[0m\u001b[0;36m1\u001b[0m\u001b[0;34m,\u001b[0m\u001b[0;36m2\u001b[0m\u001b[0;34m,\u001b[0m\u001b[0;36m3\u001b[0m\u001b[0;34m,\u001b[0m\u001b[0;36m4\u001b[0m\u001b[0;34m,\u001b[0m\u001b[0;36m5\u001b[0m\u001b[0;34m]\u001b[0m\u001b[0;34m\u001b[0m\u001b[0;34m\u001b[0m\u001b[0m\n\u001b[1;32m      4\u001b[0m \u001b[0;34m\u001b[0m\u001b[0m\n\u001b[0;32m----> 5\u001b[0;31m \u001b[0mprint\u001b[0m\u001b[0;34m(\u001b[0m\u001b[0mmath\u001b[0m\u001b[0;34m.\u001b[0m\u001b[0mprod\u001b[0m\u001b[0;34m(\u001b[0m\u001b[0mList\u001b[0m\u001b[0;34m)\u001b[0m\u001b[0;34m)\u001b[0m\u001b[0;34m\u001b[0m\u001b[0;34m\u001b[0m\u001b[0m\n\u001b[0m",
            "\u001b[0;31mAttributeError\u001b[0m: module 'math' has no attribute 'prod'"
          ]
        }
      ]
    },
    {
      "cell_type": "code",
      "metadata": {
        "colab": {
          "base_uri": "https://localhost:8080/",
          "height": 172
        },
        "id": "jLS6d44VZYHa",
        "outputId": "7b967c2b-15d2-46e6-f83c-8fad18768c00"
      },
      "source": [
        "print(math.prod(List,start=2))"
      ],
      "execution_count": null,
      "outputs": [
        {
          "output_type": "error",
          "ename": "AttributeError",
          "evalue": "ignored",
          "traceback": [
            "\u001b[0;31m---------------------------------------------------------------------------\u001b[0m",
            "\u001b[0;31mAttributeError\u001b[0m                            Traceback (most recent call last)",
            "\u001b[0;32m<ipython-input-129-47e079966f6d>\u001b[0m in \u001b[0;36m<module>\u001b[0;34m()\u001b[0m\n\u001b[0;32m----> 1\u001b[0;31m \u001b[0mprint\u001b[0m\u001b[0;34m(\u001b[0m\u001b[0mmath\u001b[0m\u001b[0;34m.\u001b[0m\u001b[0mprod\u001b[0m\u001b[0;34m(\u001b[0m\u001b[0mList\u001b[0m\u001b[0;34m,\u001b[0m\u001b[0mstart\u001b[0m\u001b[0;34m=\u001b[0m\u001b[0;36m2\u001b[0m\u001b[0;34m)\u001b[0m\u001b[0;34m)\u001b[0m\u001b[0;34m\u001b[0m\u001b[0;34m\u001b[0m\u001b[0m\n\u001b[0m",
            "\u001b[0;31mAttributeError\u001b[0m: module 'math' has no attribute 'prod'"
          ]
        }
      ]
    },
    {
      "cell_type": "code",
      "metadata": {
        "colab": {
          "base_uri": "https://localhost:8080/"
        },
        "id": "MQHZgchBZfu6",
        "outputId": "6c55117e-8a08-4b01-f089-d619673c4ba8"
      },
      "source": [
        "#Constant\r\n",
        "\r\n",
        "print(math.pi)\r\n",
        "print(math.tau) # 2*pi\r\n",
        "print(math.e)\r\n",
        "print(math.nan) # not a number\r\n",
        "print(math.inf)"
      ],
      "execution_count": null,
      "outputs": [
        {
          "output_type": "stream",
          "text": [
            "3.141592653589793\n",
            "6.283185307179586\n",
            "2.718281828459045\n",
            "nan\n",
            "inf\n"
          ],
          "name": "stdout"
        }
      ]
    },
    {
      "cell_type": "code",
      "metadata": {
        "colab": {
          "base_uri": "https://localhost:8080/"
        },
        "id": "-woU5gfSaJ_t",
        "outputId": "b0b13ace-ea05-485f-c4a9-26194435e477"
      },
      "source": [
        "# Constant implement \r\n",
        "# Condition check return bool value\r\n",
        "\r\n",
        "x = 10\r\n",
        "print(math.isfinite(x))"
      ],
      "execution_count": null,
      "outputs": [
        {
          "output_type": "stream",
          "text": [
            "True\n"
          ],
          "name": "stdout"
        }
      ]
    },
    {
      "cell_type": "code",
      "metadata": {
        "colab": {
          "base_uri": "https://localhost:8080/"
        },
        "id": "m1EH967HalAi",
        "outputId": "c6e98892-d29a-4d6b-d292-16a354919a0f"
      },
      "source": [
        "x = 10\r\n",
        "print(math.isinf(x))"
      ],
      "execution_count": null,
      "outputs": [
        {
          "output_type": "stream",
          "text": [
            "False\n"
          ],
          "name": "stdout"
        }
      ]
    },
    {
      "cell_type": "code",
      "metadata": {
        "colab": {
          "base_uri": "https://localhost:8080/"
        },
        "id": "2mqnt_RnaqnO",
        "outputId": "9a724b75-d9b9-4df2-d9ee-73a86ed923f6"
      },
      "source": [
        "x = 10\r\n",
        "print(math.isnan(x))"
      ],
      "execution_count": null,
      "outputs": [
        {
          "output_type": "stream",
          "text": [
            "False\n"
          ],
          "name": "stdout"
        }
      ]
    },
    {
      "cell_type": "code",
      "metadata": {
        "colab": {
          "base_uri": "https://localhost:8080/"
        },
        "id": "bbYvSPq2a9_Z",
        "outputId": "de6c9879-9873-4290-bcfe-ce82c15406de"
      },
      "source": [
        "a = 1.1\r\n",
        "b = 1.2\r\n",
        "print(math.isclose(a,b)) \r\n",
        "\r\n",
        "# 0.0 is True\r\n",
        "# diff is 0.1 so False"
      ],
      "execution_count": null,
      "outputs": [
        {
          "output_type": "stream",
          "text": [
            "False\n"
          ],
          "name": "stdout"
        }
      ]
    },
    {
      "cell_type": "code",
      "metadata": {
        "colab": {
          "base_uri": "https://localhost:8080/"
        },
        "id": "ZEMhWnGebdDJ",
        "outputId": "cc8f1c7d-8613-4191-f872-d8ba5097abf1"
      },
      "source": [
        "# set a close\r\n",
        "\r\n",
        "a = 1.1\r\n",
        "b = 1.2\r\n",
        "print(math.isclose(a,b,abs_tol=0.2))\r\n",
        "\r\n",
        "\r\n",
        "\r\n",
        "c = 1.1\r\n",
        "d = 1.4\r\n",
        "print(math.isclose(c,d,abs_tol=0.2))\r\n"
      ],
      "execution_count": null,
      "outputs": [
        {
          "output_type": "stream",
          "text": [
            "True\n",
            "False\n"
          ],
          "name": "stdout"
        }
      ]
    },
    {
      "cell_type": "markdown",
      "metadata": {
        "id": "iBXLzQQrcAD1"
      },
      "source": [
        "\r\n",
        "\r\n",
        "---\r\n",
        "\r\n"
      ]
    },
    {
      "cell_type": "markdown",
      "metadata": {
        "id": "pYC3wZC7cXiU"
      },
      "source": [
        "# Datetime\r\n",
        "\r\n",
        "###[date,time,datetime,timezone,timedelta]\r\n",
        "\r\n",
        "\r\n",
        "date = yyyy/m/d"
      ]
    },
    {
      "cell_type": "code",
      "metadata": {
        "colab": {
          "base_uri": "https://localhost:8080/"
        },
        "id": "rcpz0in9eDJ7",
        "outputId": "ebac1b2a-1f88-4684-b01a-5b2e62afad7d"
      },
      "source": [
        "import datetime\r\n",
        "\r\n",
        "print(dir(datetime))"
      ],
      "execution_count": null,
      "outputs": [
        {
          "output_type": "stream",
          "text": [
            "['MAXYEAR', 'MINYEAR', '__builtins__', '__cached__', '__doc__', '__file__', '__loader__', '__name__', '__package__', '__spec__', 'date', 'datetime', 'datetime_CAPI', 'sys', 'time', 'timedelta', 'timezone', 'tzinfo']\n"
          ],
          "name": "stdout"
        }
      ]
    },
    {
      "cell_type": "code",
      "metadata": {
        "colab": {
          "base_uri": "https://localhost:8080/"
        },
        "id": "K_kaM9r8eNDl",
        "outputId": "eda4e593-0a5f-4ec7-cf05-e7250dc3989d"
      },
      "source": [
        "# date\r\n",
        "\r\n",
        "mydate = datetime.date(2021,1,9)\r\n",
        "\r\n",
        "print(mydate)"
      ],
      "execution_count": null,
      "outputs": [
        {
          "output_type": "stream",
          "text": [
            "2021-01-09\n"
          ],
          "name": "stdout"
        }
      ]
    },
    {
      "cell_type": "code",
      "metadata": {
        "colab": {
          "base_uri": "https://localhost:8080/"
        },
        "id": "0q3ks2Foeq83",
        "outputId": "37b15bb6-9ef7-4647-ff35-8dd4a92e35ee"
      },
      "source": [
        "# today date\r\n",
        "\r\n",
        "tdate = datetime.date.today() # current date\r\n",
        "\r\n",
        "print(tdate)"
      ],
      "execution_count": null,
      "outputs": [
        {
          "output_type": "stream",
          "text": [
            "2021-01-10\n"
          ],
          "name": "stdout"
        }
      ]
    },
    {
      "cell_type": "code",
      "metadata": {
        "colab": {
          "base_uri": "https://localhost:8080/"
        },
        "id": "7ZXD6AFzjCp6",
        "outputId": "baddd791-a141-437b-f2e4-f5b4cdacb279"
      },
      "source": [
        "# current year , month and day\r\n",
        "print(f\"Current Year : {tdate.year} \")\r\n",
        "print(f\"Current Month : {tdate.month} \")\r\n",
        "print(f\"Current Day : {tdate.day} \")"
      ],
      "execution_count": null,
      "outputs": [
        {
          "output_type": "stream",
          "text": [
            "Current Year : 2021 \n",
            "Current Month : 1 \n",
            "Current Day : 10 \n"
          ],
          "name": "stdout"
        }
      ]
    },
    {
      "cell_type": "code",
      "metadata": {
        "colab": {
          "base_uri": "https://localhost:8080/"
        },
        "id": "KclCJZBWlIPb",
        "outputId": "8387239f-8599-41f7-dd12-046ca9447ae7"
      },
      "source": [
        "# Weekday\r\n",
        "\r\n",
        "tdate = datetime.date.today()\r\n",
        "'''\r\n",
        "0 = monday\r\n",
        "1 = tuesday\r\n",
        "2 = wednesday\r\n",
        "3 = thrusday\r\n",
        "4 = friday\r\n",
        "5 = saturday\r\n",
        "6 = sunday\r\n",
        "'''\r\n",
        "print(tdate.weekday())"
      ],
      "execution_count": null,
      "outputs": [
        {
          "output_type": "stream",
          "text": [
            "6\n"
          ],
          "name": "stdout"
        }
      ]
    },
    {
      "cell_type": "code",
      "metadata": {
        "colab": {
          "base_uri": "https://localhost:8080/"
        },
        "id": "bppve1xxluxg",
        "outputId": "90a46aba-20dd-4fdc-e66d-85baac955495"
      },
      "source": [
        "# isoweekday\r\n",
        "'''\r\n",
        "1 = monday\r\n",
        "2 = tuesday\r\n",
        "3 = wednesday\r\n",
        "4 = thrusday\r\n",
        "5 = friday\r\n",
        "6 = saturday\r\n",
        "7 = sunday\r\n",
        "'''\r\n",
        "\r\n",
        "print(datetime.date.today().isoweekday())\r\n"
      ],
      "execution_count": null,
      "outputs": [
        {
          "output_type": "stream",
          "text": [
            "7\n"
          ],
          "name": "stdout"
        }
      ]
    },
    {
      "cell_type": "code",
      "metadata": {
        "colab": {
          "base_uri": "https://localhost:8080/"
        },
        "id": "b7SjNnm0mN-4",
        "outputId": "106cbf7b-e67a-4b12-dc15-0ef177793174"
      },
      "source": [
        "'''\r\n",
        "timedelta => diff between 2 days\r\n",
        "timedelta + day\r\n",
        "'''\r\n",
        "\r\n",
        "tdate = datetime.date.today()\r\n",
        "tdelta = datetime.timedelta(days=4)\r\n",
        "print(tdate)\r\n",
        "print(tdelta)\r\n",
        "print(tdate + tdelta)\r\n",
        "print(tdate - tdelta)"
      ],
      "execution_count": null,
      "outputs": [
        {
          "output_type": "stream",
          "text": [
            "2021-01-10\n",
            "4 days, 0:00:00\n",
            "2021-01-14\n",
            "2021-01-06\n"
          ],
          "name": "stdout"
        }
      ]
    },
    {
      "cell_type": "code",
      "metadata": {
        "colab": {
          "base_uri": "https://localhost:8080/"
        },
        "id": "xKbMtcLVnviY",
        "outputId": "f0161f21-476f-4942-d610-5d607c0918b1"
      },
      "source": [
        "# Find no of days passed in this year\r\n",
        "\r\n",
        "newyear = datetime.date(2021,1,1)\r\n",
        "print(f\"No of days passed : {tdate - newyear}\")\r\n",
        "print(f\"No of days passed : {(tdate - newyear).days} days\")"
      ],
      "execution_count": null,
      "outputs": [
        {
          "output_type": "stream",
          "text": [
            "No of days passed : 9 days, 0:00:00\n",
            "No of days passed : 9 days\n"
          ],
          "name": "stdout"
        }
      ]
    },
    {
      "cell_type": "markdown",
      "metadata": {
        "id": "j-8Q_JE2pGXh"
      },
      "source": [
        " time = h : m : s : microsec"
      ]
    },
    {
      "cell_type": "code",
      "metadata": {
        "colab": {
          "base_uri": "https://localhost:8080/"
        },
        "id": "-OuNOHWvpFGX",
        "outputId": "653c737f-804e-45fa-ea65-2389631c07cb"
      },
      "source": [
        "mytime = datetime.time(8,15,56,123456)\r\n",
        "print(mytime)"
      ],
      "execution_count": null,
      "outputs": [
        {
          "output_type": "stream",
          "text": [
            "08:15:56.123456\n"
          ],
          "name": "stdout"
        }
      ]
    },
    {
      "cell_type": "code",
      "metadata": {
        "colab": {
          "base_uri": "https://localhost:8080/"
        },
        "id": "xXmsxfIsxF-i",
        "outputId": "6b3f92c2-77f9-4335-afd4-969d616246ec"
      },
      "source": [
        "print(mytime.hour)\r\n",
        "print(mytime.minute)\r\n",
        "print(mytime.second)"
      ],
      "execution_count": null,
      "outputs": [
        {
          "output_type": "stream",
          "text": [
            "8\n",
            "15\n",
            "56\n"
          ],
          "name": "stdout"
        }
      ]
    },
    {
      "cell_type": "markdown",
      "metadata": {
        "id": "l-rLzu6hxciR"
      },
      "source": [
        "### Date + Time"
      ]
    },
    {
      "cell_type": "code",
      "metadata": {
        "colab": {
          "base_uri": "https://localhost:8080/"
        },
        "id": "Yl0jX8Dixf1F",
        "outputId": "3d81a98c-0a12-43f5-a661-c2dfbea213b1"
      },
      "source": [
        "myday = datetime.datetime(2021,1,1,8,15,56,123456)\r\n",
        "print(myday)"
      ],
      "execution_count": null,
      "outputs": [
        {
          "output_type": "stream",
          "text": [
            "2021-01-01 08:15:56.123456\n"
          ],
          "name": "stdout"
        }
      ]
    },
    {
      "cell_type": "code",
      "metadata": {
        "colab": {
          "base_uri": "https://localhost:8080/"
        },
        "id": "0tR7vvWlx0ef",
        "outputId": "c55da79e-141f-4145-b872-0801d3dcd188"
      },
      "source": [
        "print(myday.hour)\r\n",
        "print(myday.minute)\r\n"
      ],
      "execution_count": null,
      "outputs": [
        {
          "output_type": "stream",
          "text": [
            "8\n",
            "15\n"
          ],
          "name": "stdout"
        }
      ]
    },
    {
      "cell_type": "code",
      "metadata": {
        "colab": {
          "base_uri": "https://localhost:8080/"
        },
        "id": "2-1MgyLTyFq4",
        "outputId": "49c7984a-2467-484e-f02e-0dd63de0d6c6"
      },
      "source": [
        "tday = datetime.datetime.today()\r\n",
        "print(tday)\r\n",
        "\r\n",
        "tday_now = datetime.datetime.now()\r\n",
        "print(tday_now)\r\n",
        "\r\n",
        "\r\n",
        "# utcnow() = start in 1 jan 1970\r\n",
        "tday_utc = datetime.datetime.utcnow()\r\n",
        "\r\n",
        "print(tday_utc)\r\n",
        "\r\n"
      ],
      "execution_count": null,
      "outputs": [
        {
          "output_type": "stream",
          "text": [
            "2021-01-10 14:55:40.060214\n",
            "2021-01-10 14:55:40.060358\n",
            "2021-01-10 14:55:40.060436\n"
          ],
          "name": "stdout"
        }
      ]
    },
    {
      "cell_type": "code",
      "metadata": {
        "colab": {
          "base_uri": "https://localhost:8080/"
        },
        "id": "tD871yKzzWW2",
        "outputId": "4149a52f-8765-4772-efaf-3dfe95e0f7c0"
      },
      "source": [
        "mydate = datetime.date.fromtimestamp(1234567890)\r\n",
        "print(mydate)"
      ],
      "execution_count": null,
      "outputs": [
        {
          "output_type": "stream",
          "text": [
            "2009-02-13\n"
          ],
          "name": "stdout"
        }
      ]
    },
    {
      "cell_type": "markdown",
      "metadata": {
        "id": "U43Zqg420tOB"
      },
      "source": [
        "#### Datetime to String\r\n",
        "\r\n",
        "__Formats__\r\n",
        " \r\n",
        "%H - hour\r\n",
        "\r\n",
        "%M - minute;\r\n",
        "\r\n",
        "%S - second \r\n",
        "\r\n",
        "%s - microsecond\r\n",
        "\r\n",
        "%d - day \r\n",
        "\r\n",
        "%m - month(1,2,3,..) \r\n",
        "\r\n",
        "%B - (January,...) \r\n",
        "\r\n",
        "%b - (jan,feb,...)\r\n",
        "\r\n",
        "%Y - YYYY\r\n",
        "\r\n",
        "%y - yy\r\n",
        "\r\n"
      ]
    },
    {
      "cell_type": "code",
      "metadata": {
        "colab": {
          "base_uri": "https://localhost:8080/"
        },
        "id": "ZSyfsvjZzm0d",
        "outputId": "59877e18-d1a6-4b09-b6ae-4d65db2af8d6"
      },
      "source": [
        "# datetime to string\r\n",
        "# strf\r\n",
        "\r\n",
        "tdate = datetime.datetime.now()\r\n",
        "print(tdate)\r\n",
        "\r\n",
        "mytime = tdate.strftime(\"%H:%M:%S\")\r\n",
        "print(mytime)\r\n",
        "\r\n",
        "mydate = tdate.strftime(\"%d/%m/%y\")\r\n",
        "print(mydate)\r\n",
        "\r\n",
        "mydatetime = tdate.strftime(\"%d/%m/%y , %H:%M:%S\")\r\n",
        "print(mydatetime)"
      ],
      "execution_count": null,
      "outputs": [
        {
          "output_type": "stream",
          "text": [
            "2021-01-10 15:10:54.995946\n",
            "15:10:54\n",
            "10/01/21\n",
            "10/01/21 , 15:10:54\n"
          ],
          "name": "stdout"
        }
      ]
    },
    {
      "cell_type": "markdown",
      "metadata": {
        "id": "rqt7zcqt21s7"
      },
      "source": [
        "__String to datetime__\r\n",
        "\r\n",
        "\r\n",
        "method - strptime"
      ]
    },
    {
      "cell_type": "code",
      "metadata": {
        "colab": {
          "base_uri": "https://localhost:8080/"
        },
        "id": "ofaCL2FJ27os",
        "outputId": "4b5d480c-9537-4164-a6f2-7e9f74865d51"
      },
      "source": [
        "date_str = \"10 January 2021\"\r\n",
        "print(date_str)\r\n",
        "\r\n",
        "con = datetime.datetime.strptime(date_str,\"%d %B %Y\")\r\n",
        "print(con)"
      ],
      "execution_count": null,
      "outputs": [
        {
          "output_type": "stream",
          "text": [
            "10 January 2021\n",
            "2021-01-10 00:00:00\n"
          ],
          "name": "stdout"
        }
      ]
    },
    {
      "cell_type": "markdown",
      "metadata": {
        "id": "h6jx4qzv4-yv"
      },
      "source": [
        "\r\n",
        "\r\n",
        "---\r\n",
        "\r\n"
      ]
    },
    {
      "cell_type": "markdown",
      "metadata": {
        "id": "M3GUwSC55BnO"
      },
      "source": [
        "# First Class Function\r\n",
        "# Nested Function"
      ]
    },
    {
      "cell_type": "markdown",
      "metadata": {
        "id": "1t4tCyJc5NWd"
      },
      "source": [
        "\r\n"
      ]
    },
    {
      "cell_type": "code",
      "metadata": {
        "colab": {
          "base_uri": "https://localhost:8080/"
        },
        "id": "etICqFTd5fGx",
        "outputId": "4953def1-770f-4c75-f4bc-afa503eab444"
      },
      "source": [
        "def isodd(n):\r\n",
        "  if not n%2 == 0:\r\n",
        "    return n\r\n",
        "\r\n",
        "\r\n",
        "print(isodd(3))    \r\n",
        "print(isodd(30))    "
      ],
      "execution_count": null,
      "outputs": [
        {
          "output_type": "stream",
          "text": [
            "3\n",
            "None\n"
          ],
          "name": "stdout"
        }
      ]
    },
    {
      "cell_type": "code",
      "metadata": {
        "colab": {
          "base_uri": "https://localhost:8080/",
          "height": 136
        },
        "id": "xgf9NyB857L6",
        "outputId": "d565a11c-1ab5-4a76-9165-c19444bd7c20"
      },
      "source": [
        "def isodd(n) -> int:\r\n",
        "  if not n%2 == 0:\r\n",
        "    return n\r\n",
        "\r\n",
        "num = int(input(\"Enter the number : \")\r\n",
        "\r\n",
        "res = isodd(num)\r\n",
        "print(res)"
      ],
      "execution_count": null,
      "outputs": [
        {
          "output_type": "error",
          "ename": "SyntaxError",
          "evalue": "ignored",
          "traceback": [
            "\u001b[0;36m  File \u001b[0;32m\"<ipython-input-206-85660f389b8e>\"\u001b[0;36m, line \u001b[0;32m7\u001b[0m\n\u001b[0;31m    res = isodd(num)\u001b[0m\n\u001b[0m      ^\u001b[0m\n\u001b[0;31mSyntaxError\u001b[0m\u001b[0;31m:\u001b[0m invalid syntax\n"
          ]
        }
      ]
    },
    {
      "cell_type": "code",
      "metadata": {
        "id": "tiYjrNR55mGG"
      },
      "source": [
        ""
      ],
      "execution_count": null,
      "outputs": []
    }
  ]
}