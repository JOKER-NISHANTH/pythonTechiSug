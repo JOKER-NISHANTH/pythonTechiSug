{
  "nbformat": 4,
  "nbformat_minor": 0,
  "metadata": {
    "colab": {
      "name": "PythonTechiSu.ipynb",
      "provenance": [],
      "authorship_tag": "ABX9TyOHbJy70ayDw4Xf4yUEhvyl",
      "include_colab_link": true
    },
    "kernelspec": {
      "name": "python3",
      "display_name": "Python 3"
    }
  },
  "cells": [
    {
      "cell_type": "markdown",
      "metadata": {
        "id": "view-in-github",
        "colab_type": "text"
      },
      "source": [
        "<a href=\"https://colab.research.google.com/github/JOKER-NISHANTH/pythonTechiSug/blob/master/PythonTechiSu.ipynb\" target=\"_parent\"><img src=\"https://colab.research.google.com/assets/colab-badge.svg\" alt=\"Open In Colab\"/></a>"
      ]
    },
    {
      "cell_type": "code",
      "metadata": {
        "id": "xnA2ocKgQrKe"
      },
      "source": [
        ""
      ],
      "execution_count": null,
      "outputs": []
    },
    {
      "cell_type": "markdown",
      "metadata": {
        "id": "u9xKd3oCQ2ME"
      },
      "source": [
        "# List Comprehension :\r\n",
        "\r\n",
        "List comprehension are useful and help  you write elegant code that's easy to read and debug...\r\n",
        "\r\n",
        "## Syntax : \r\n",
        "\r\n",
        "[ expression for item in iterable ]"
      ]
    },
    {
      "cell_type": "code",
      "metadata": {
        "colab": {
          "base_uri": "https://localhost:8080/"
        },
        "id": "vpZ5cdSFSTr3",
        "outputId": "93b51182-964e-48a4-ac2c-9716c3ecc695"
      },
      "source": [
        "lst = [1,2,3]\r\n",
        "print(lst)"
      ],
      "execution_count": 2,
      "outputs": [
        {
          "output_type": "stream",
          "text": [
            "[1, 2, 3]\n"
          ],
          "name": "stdout"
        }
      ]
    },
    {
      "cell_type": "code",
      "metadata": {
        "colab": {
          "base_uri": "https://localhost:8080/"
        },
        "id": "ZhHqLrqqSys4",
        "outputId": "557c5584-1d77-4586-b1df-b16df42fe313"
      },
      "source": [
        "List = [ x for x in range(1,11)]\r\n",
        "print(List)"
      ],
      "execution_count": 3,
      "outputs": [
        {
          "output_type": "stream",
          "text": [
            "[1, 2, 3, 4, 5, 6, 7, 8, 9, 10]\n"
          ],
          "name": "stdout"
        }
      ]
    },
    {
      "cell_type": "code",
      "metadata": {
        "colab": {
          "base_uri": "https://localhost:8080/"
        },
        "id": "OpHlRsBtTC2P",
        "outputId": "98f680d1-4b7b-47f5-acc2-7f601c580e10"
      },
      "source": [
        "List = [ x**2 for x in range(1,11)]\r\n",
        "print(List)"
      ],
      "execution_count": 5,
      "outputs": [
        {
          "output_type": "stream",
          "text": [
            "[1, 4, 9, 16, 25, 36, 49, 64, 81, 100]\n"
          ],
          "name": "stdout"
        }
      ]
    },
    {
      "cell_type": "markdown",
      "metadata": {
        "id": "6iP-kN14UiOp"
      },
      "source": [
        "#### True Statement in List Comprehension\r\n",
        "\r\n",
        "_Syntax_\r\n",
        "\r\n",
        "[ expression for item in iterable if condition]"
      ]
    },
    {
      "cell_type": "markdown",
      "metadata": {
        "id": "LC7tNCGETgIm"
      },
      "source": [
        "\r\n",
        "### Print Even Number \r\n",
        "---\r\n",
        "\r\n"
      ]
    },
    {
      "cell_type": "code",
      "metadata": {
        "colab": {
          "base_uri": "https://localhost:8080/"
        },
        "id": "0gJK7o2hTOvd",
        "outputId": "aae5f012-d593-41c3-e802-a87310baf662"
      },
      "source": [
        "List = [ x for x in range(1,11) if x%2==0]\r\n",
        "print(List)"
      ],
      "execution_count": 6,
      "outputs": [
        {
          "output_type": "stream",
          "text": [
            "[2, 4, 6, 8, 10]\n"
          ],
          "name": "stdout"
        }
      ]
    },
    {
      "cell_type": "markdown",
      "metadata": {
        "id": "1O8_TXAgTra7"
      },
      "source": [
        "### Print Odd Number"
      ]
    },
    {
      "cell_type": "code",
      "metadata": {
        "colab": {
          "base_uri": "https://localhost:8080/"
        },
        "id": "MNTQ1PwyT6_O",
        "outputId": "f5916418-bc01-49e6-f01a-f07a28da7e83"
      },
      "source": [
        "List = [ x for x in range(1,11) if not x%2==0]\r\n",
        "print(List)"
      ],
      "execution_count": 8,
      "outputs": [
        {
          "output_type": "stream",
          "text": [
            "[1, 3, 5, 7, 9]\n"
          ],
          "name": "stdout"
        }
      ]
    },
    {
      "cell_type": "markdown",
      "metadata": {
        "id": "2hZWtmujURyR"
      },
      "source": [
        "#### True And False Statement in List Comprehension\r\n",
        "\r\n",
        "_Syntax_\r\n",
        "\r\n",
        "[ T-expr if conditon else F-expr for item in iterable ]"
      ]
    },
    {
      "cell_type": "code",
      "metadata": {
        "colab": {
          "base_uri": "https://localhost:8080/"
        },
        "id": "i1q-FZgZVtk2",
        "outputId": "be870acc-187a-4ccf-9935-b3335ab5abe8"
      },
      "source": [
        "List = [ x if (x > 2) else x+1 for x in range(1,11)]\r\n",
        "print(List)"
      ],
      "execution_count": 9,
      "outputs": [
        {
          "output_type": "stream",
          "text": [
            "[2, 3, 3, 4, 5, 6, 7, 8, 9, 10]\n"
          ],
          "name": "stdout"
        }
      ]
    },
    {
      "cell_type": "markdown",
      "metadata": {
        "id": "ayjrDaoRW2Jp"
      },
      "source": [
        "Print 1 to 10 and Even Numbers square and Odd numbers cube\r\n",
        "\r\n",
        "\r\n",
        "eg:\r\n",
        "```\r\n",
        "  1, 4, 27 , 16 ,125 .......,729 , 100\r\n",
        "```"
      ]
    },
    {
      "cell_type": "code",
      "metadata": {
        "colab": {
          "base_uri": "https://localhost:8080/"
        },
        "id": "7q7cRqyqWgjV",
        "outputId": "988f4984-8da9-4b3c-bcd5-d82b358bdfee"
      },
      "source": [
        "List = [ x**2 if x%2==0 else x**3 for x in range(1,11)]\r\n",
        "print(List)"
      ],
      "execution_count": 10,
      "outputs": [
        {
          "output_type": "stream",
          "text": [
            "[1, 4, 27, 16, 125, 36, 343, 64, 729, 100]\n"
          ],
          "name": "stdout"
        }
      ]
    },
    {
      "cell_type": "markdown",
      "metadata": {
        "id": "N7nTQ8qVXl43"
      },
      "source": [
        "**List Comprehension examples**"
      ]
    },
    {
      "cell_type": "markdown",
      "metadata": {
        "id": "yBkgZtjuX0wB"
      },
      "source": [
        "1. Question \r\n",
        "Multiple no to List"
      ]
    },
    {
      "cell_type": "code",
      "metadata": {
        "colab": {
          "base_uri": "https://localhost:8080/"
        },
        "id": "qF4vcWpZX_pG",
        "outputId": "bb94e5c8-1241-4c04-afdc-faefbb3b094d"
      },
      "source": [
        "List = [ 1,2,3,4,5 ]\r\n",
        "Result = [ x*2 for x in List]\r\n",
        "print(Result)"
      ],
      "execution_count": 11,
      "outputs": [
        {
          "output_type": "stream",
          "text": [
            "[2, 4, 6, 8, 10]\n"
          ],
          "name": "stdout"
        }
      ]
    },
    {
      "cell_type": "markdown",
      "metadata": {
        "id": "1XR4q9iKYiLG"
      },
      "source": [
        "2 . Extract numbers or alphabets form string"
      ]
    },
    {
      "cell_type": "code",
      "metadata": {
        "colab": {
          "base_uri": "https://localhost:8080/"
        },
        "id": "VIWZbaVHZDYR",
        "outputId": "abbb2feb-c199-4482-80f8-f6e5ba53b75b"
      },
      "source": [
        "name = \"BlackPearl379\"\r\n",
        "Result = [x for x in name if x.isalpha()]\r\n",
        "print(Result)\r\n",
        "Result = [x for x in name if x.isdigit()]\r\n",
        "print(Result)"
      ],
      "execution_count": 15,
      "outputs": [
        {
          "output_type": "stream",
          "text": [
            "['B', 'l', 'a', 'c', 'k', 'P', 'e', 'a', 'r', 'l']\n",
            "['3', '7', '9']\n"
          ],
          "name": "stdout"
        }
      ]
    },
    {
      "cell_type": "markdown",
      "metadata": {
        "id": "VmiiE7AMaMY5"
      },
      "source": [
        "3. To Change cases of words in List"
      ]
    },
    {
      "cell_type": "code",
      "metadata": {
        "colab": {
          "base_uri": "https://localhost:8080/"
        },
        "id": "KngUUUGGaRgi",
        "outputId": "ff22ef1b-bbe3-4f93-82ff-2b54fd41b6a4"
      },
      "source": [
        "fruits = ['apple','orange','grapes']\r\n",
        "UpperCase = [ x.upper() for x in fruits]\r\n",
        "print(UpperCase)\r\n"
      ],
      "execution_count": 16,
      "outputs": [
        {
          "output_type": "stream",
          "text": [
            "['APPLE', 'ORANGE', 'GRAPES']\n"
          ],
          "name": "stdout"
        }
      ]
    },
    {
      "cell_type": "markdown",
      "metadata": {
        "id": "FzMJIA0XbDZD"
      },
      "source": [
        "4. Nested List Comprehension"
      ]
    },
    {
      "cell_type": "code",
      "metadata": {
        "colab": {
          "base_uri": "https://localhost:8080/"
        },
        "id": "v8B8v46SbJbE",
        "outputId": "6771e201-4b9e-4b35-de08-9ba7342abaee"
      },
      "source": [
        "NestedList = [[1,2,3,4,5],['a','b','c','d','e'],['Cyber','Black']]\r\n",
        "print(NestedList)\r\n",
        "Result = [ x[0] for x in NestedList]\r\n",
        "print(Result)\r\n",
        "Result = [ x[1] for x in NestedList]\r\n",
        "print(Result)\r\n"
      ],
      "execution_count": 21,
      "outputs": [
        {
          "output_type": "stream",
          "text": [
            "[[1, 2, 3, 4, 5], ['a', 'b', 'c', 'd', 'e'], ['Cyber', 'Black']]\n",
            "[1, 'a', 'Cyber']\n",
            "[2, 'b', 'Black']\n"
          ],
          "name": "stdout"
        }
      ]
    },
    {
      "cell_type": "markdown",
      "metadata": {
        "id": "5A21_4ntccrQ"
      },
      "source": [
        "5. Addition of two List"
      ]
    },
    {
      "cell_type": "code",
      "metadata": {
        "colab": {
          "base_uri": "https://localhost:8080/"
        },
        "id": "9FBxyR9Ucgec",
        "outputId": "e8a0ffda-92d0-4adf-8afc-cb14e469618f"
      },
      "source": [
        "List_1 = [1,2]\r\n",
        "List_2 = [3,4]\r\n",
        "\r\n",
        "Added = [x+y for x in List_1 for y in List_2]\r\n",
        "print(Added)"
      ],
      "execution_count": 22,
      "outputs": [
        {
          "output_type": "stream",
          "text": [
            "[4, 5, 5, 6]\n"
          ],
          "name": "stdout"
        }
      ]
    },
    {
      "cell_type": "markdown",
      "metadata": {
        "id": "W5SCzXKPdQ63"
      },
      "source": [
        "Addition  of two List (Corresponding Values)\r\n"
      ]
    },
    {
      "cell_type": "code",
      "metadata": {
        "colab": {
          "base_uri": "https://localhost:8080/"
        },
        "id": "iuKzUIszdbZI",
        "outputId": "9f3c1313-e38e-42ae-e2de-7ab26a069e62"
      },
      "source": [
        "List_1 = [1,2]\r\n",
        "List_2 = [3,4]\r\n",
        "\r\n",
        "Added = [List_1[i] + List_2 [i] for i in range(len(List_1))]\r\n",
        "print(Added)"
      ],
      "execution_count": 23,
      "outputs": [
        {
          "output_type": "stream",
          "text": [
            "[4, 6]\n"
          ],
          "name": "stdout"
        }
      ]
    },
    {
      "cell_type": "markdown",
      "metadata": {
        "id": "BRWAGzvteEec"
      },
      "source": [
        "6. Forming Unique pairs:"
      ]
    },
    {
      "cell_type": "code",
      "metadata": {
        "colab": {
          "base_uri": "https://localhost:8080/"
        },
        "id": "xxUrLOR8eKHF",
        "outputId": "ec840552-1a4d-4fba-d7fa-347f179a0a1e"
      },
      "source": [
        "List_1 = [1,2]\r\n",
        "List_2 = [3,4]\r\n",
        "Unique = [ (x,y) for x in List_1 for y in List_2 if not x==y]\r\n",
        "print(Unique)"
      ],
      "execution_count": 24,
      "outputs": [
        {
          "output_type": "stream",
          "text": [
            "[(1, 3), (1, 4), (2, 3), (2, 4)]\n"
          ],
          "name": "stdout"
        }
      ]
    },
    {
      "cell_type": "markdown",
      "metadata": {
        "id": "5mdOBk8zfEM5"
      },
      "source": [
        "7. Function"
      ]
    },
    {
      "cell_type": "code",
      "metadata": {
        "colab": {
          "base_uri": "https://localhost:8080/"
        },
        "id": "SLzGGB5EfIZL",
        "outputId": "65a26fed-5f25-4d4f-bbf6-efef4f94a189"
      },
      "source": [
        "def square(x):\r\n",
        "  return (x*x)\r\n",
        "\r\n",
        "print([square(x) for x in range(1,11)])  "
      ],
      "execution_count": 26,
      "outputs": [
        {
          "output_type": "stream",
          "text": [
            "[1, 4, 9, 16, 25, 36, 49, 64, 81, 100]\n"
          ],
          "name": "stdout"
        }
      ]
    },
    {
      "cell_type": "markdown",
      "metadata": {
        "id": "ZuKxrS6Xfu0n"
      },
      "source": [
        "====================================================================="
      ]
    },
    {
      "cell_type": "markdown",
      "metadata": {
        "id": "6DbqaTSGfz4R"
      },
      "source": [
        "# Function\r\n",
        "\r\n",
        "Python function are categorized into \r\n",
        "\r\n",
        "* in-built function\r\n",
        "* User defined functions\r\n",
        "  \r\n",
        "  * Function Definition\r\n",
        "  * Function Calling\r\n",
        "\r\n",
        "_Syntax_\r\n",
        "\r\n",
        "```python\r\n",
        "  \r\n",
        "  def function_name(arguments): # arguments => Optional \r\n",
        "    # Code\r\n",
        "    return variable\r\n",
        "\r\n",
        "\r\n",
        "# Function Call\r\n",
        "function_name()\r\n",
        "```"
      ]
    },
    {
      "cell_type": "markdown",
      "metadata": {
        "id": "Q7x2FwB7hnOc"
      },
      "source": [
        "1. Function Without Arg"
      ]
    },
    {
      "cell_type": "code",
      "metadata": {
        "colab": {
          "base_uri": "https://localhost:8080/"
        },
        "id": "qSbzrs5Mht7F",
        "outputId": "9c541b83-91f1-4fd4-aac5-475ff5701a5f"
      },
      "source": [
        "def greet():\r\n",
        "  print(\"Welcome\")\r\n",
        "\r\n",
        "greet()  "
      ],
      "execution_count": 27,
      "outputs": [
        {
          "output_type": "stream",
          "text": [
            "Welcome\n"
          ],
          "name": "stdout"
        }
      ]
    },
    {
      "cell_type": "markdown",
      "metadata": {
        "id": "tL46GZPGh939"
      },
      "source": [
        "2. Function with Postional Arg"
      ]
    },
    {
      "cell_type": "code",
      "metadata": {
        "colab": {
          "base_uri": "https://localhost:8080/"
        },
        "id": "FD557kIeiI-f",
        "outputId": "78e4fab2-6d98-4582-9d4f-28c5b12834a3"
      },
      "source": [
        "def print_name(name) -> str:\r\n",
        "  print(f\"Heartly Welcome! {name}\")\r\n",
        "\r\n",
        "\r\n",
        "print_name('Black Pearl')"
      ],
      "execution_count": 32,
      "outputs": [
        {
          "output_type": "stream",
          "text": [
            "Heartly Welcome! Black Pearl\n"
          ],
          "name": "stdout"
        }
      ]
    },
    {
      "cell_type": "markdown",
      "metadata": {
        "id": "sxL7P_zRjNAp"
      },
      "source": [
        "3. returning value "
      ]
    },
    {
      "cell_type": "code",
      "metadata": {
        "colab": {
          "base_uri": "https://localhost:8080/"
        },
        "id": "bcLzAJrMjUtu",
        "outputId": "88263b4b-511b-4ae1-d4f9-89ef000ce82c"
      },
      "source": [
        "def add(num1,num2):\r\n",
        "  return (num1+num2)\r\n",
        "\r\n",
        "result = add(10,15)\r\n",
        "print(result)\r\n",
        "result=add(num2=10,num1=40)\r\n",
        "print(result)\r\n"
      ],
      "execution_count": 35,
      "outputs": [
        {
          "output_type": "stream",
          "text": [
            "25\n",
            "50\n"
          ],
          "name": "stdout"
        }
      ]
    },
    {
      "cell_type": "code",
      "metadata": {
        "colab": {
          "base_uri": "https://localhost:8080/"
        },
        "id": "xqAR7kzwkKRB",
        "outputId": "48c033fd-d622-4077-b9fc-9ffdc8c7b4ad"
      },
      "source": [
        "def calc(x,y):\r\n",
        "  add = x + y\r\n",
        "  sub = x - y\r\n",
        "  mul = x * y\r\n",
        "  div = x / y\r\n",
        "  rem = x % y\r\n",
        "\r\n",
        "  return add ,sub , mul , div , rem\r\n",
        "\r\n",
        "\r\n",
        "num1 , num2 = 10 , 5\r\n",
        "Result = calc(y=num2,x=num1)\r\n",
        "print(Result) # printed in tuple format\r\n",
        "\r\n",
        "Add , Sub , Mul, Div , Rem = calc(x=num1,y=num2)\r\n",
        "print(Add , Sub , Mul, Div , Rem )\r\n",
        "\r\n",
        "\r\n"
      ],
      "execution_count": 37,
      "outputs": [
        {
          "output_type": "stream",
          "text": [
            "(15, 5, 50, 2.0, 0)\n",
            "15 5 50 2.0 0\n"
          ],
          "name": "stdout"
        }
      ]
    },
    {
      "cell_type": "markdown",
      "metadata": {
        "id": "inpXUcI-l-Xw"
      },
      "source": [
        "4. Function with default arg"
      ]
    },
    {
      "cell_type": "code",
      "metadata": {
        "colab": {
          "base_uri": "https://localhost:8080/"
        },
        "id": "1-FZYU2HmGfv",
        "outputId": "a9e7aa3c-51a7-4e54-e007-1e90a7f0d7a2"
      },
      "source": [
        "# pi = default\r\n",
        "def area(radius , pi=3.14):\r\n",
        "  return pi * radius**2\r\n",
        "\r\n",
        "\r\n",
        "print(area(10))\r\n",
        "print(area(10,2))"
      ],
      "execution_count": 38,
      "outputs": [
        {
          "output_type": "stream",
          "text": [
            "314.0\n",
            "200\n"
          ],
          "name": "stdout"
        }
      ]
    },
    {
      "cell_type": "markdown",
      "metadata": {
        "id": "t1moxUrQnMba"
      },
      "source": [
        "5. Keyworded argument"
      ]
    },
    {
      "cell_type": "code",
      "metadata": {
        "colab": {
          "base_uri": "https://localhost:8080/"
        },
        "id": "TQHTMnYJnTMw",
        "outputId": "33b9cb94-dd0a-46b1-894a-233c2cfe4fd2"
      },
      "source": [
        "def printval(x,y):\r\n",
        "  print(\"x\",x)\r\n",
        "  print(\"y\",y)\r\n",
        "\r\n",
        "printval(777,999)\r\n",
        "printval(y=777,x=999)"
      ],
      "execution_count": 40,
      "outputs": [
        {
          "output_type": "stream",
          "text": [
            "x 777\n",
            "y 999\n",
            "x 999\n",
            "y 777\n"
          ],
          "name": "stdout"
        }
      ]
    },
    {
      "cell_type": "markdown",
      "metadata": {
        "id": "z1rIJSd_oEtG"
      },
      "source": [
        "6. Variable length argument"
      ]
    },
    {
      "cell_type": "code",
      "metadata": {
        "colab": {
          "base_uri": "https://localhost:8080/"
        },
        "id": "Lq7uCl8ZoNGT",
        "outputId": "5f78459e-4e74-4346-9cb9-afaf4ff366a4"
      },
      "source": [
        "# *value = *arg\r\n",
        "\r\n",
        "def multi_value(*value):\r\n",
        "  print(value)\r\n",
        "  print(*value)\r\n",
        "  print(f\"Addition of value : {sum(value)}\\n\")\r\n",
        "  for x in value:\r\n",
        "    print(f\"Square of value {x}: {x**2}\")\r\n",
        "\r\n",
        "multi_value(1,2,3,4,5)"
      ],
      "execution_count": 50,
      "outputs": [
        {
          "output_type": "stream",
          "text": [
            "(1, 2, 3, 4, 5)\n",
            "1 2 3 4 5\n",
            "Addition of value : 15\n",
            "\n",
            "Square of value 1: 1\n",
            "Square of value 2: 4\n",
            "Square of value 3: 9\n",
            "Square of value 4: 16\n",
            "Square of value 5: 25\n"
          ],
          "name": "stdout"
        }
      ]
    },
    {
      "cell_type": "markdown",
      "metadata": {
        "id": "4eb8kWq5qJ6p"
      },
      "source": [
        "7. **kwargs = keyword length arguments"
      ]
    },
    {
      "cell_type": "code",
      "metadata": {
        "colab": {
          "base_uri": "https://localhost:8080/"
        },
        "id": "ncKO_iWHqS1i",
        "outputId": "c7aeebe0-e86b-45d0-8159-85a0db649f29"
      },
      "source": [
        "def List(**items):\r\n",
        "  print(items) # Return DICT\r\n",
        "  \r\n",
        "  print(*items) # Return Key  \r\n",
        "  \r\n",
        "  print(items['apple'])\r\n",
        "\r\n",
        "  print(items)\r\n",
        "\r\n",
        "\r\n",
        "List(apple=2,manjo=6,lemon=4)"
      ],
      "execution_count": 61,
      "outputs": [
        {
          "output_type": "stream",
          "text": [
            "{'apple': 2, 'manjo': 6, 'lemon': 4}\n",
            "apple manjo lemon\n",
            "2\n",
            "{'apple': 2, 'manjo': 6, 'lemon': 4}\n"
          ],
          "name": "stdout"
        }
      ]
    },
    {
      "cell_type": "markdown",
      "metadata": {
        "id": "-p2iOi5esKuj"
      },
      "source": [
        "_**\\*args and **kwargs**_"
      ]
    },
    {
      "cell_type": "code",
      "metadata": {
        "colab": {
          "base_uri": "https://localhost:8080/"
        },
        "id": "c92ILVcGsenq",
        "outputId": "cf8592f5-0ab0-4e95-fd7a-6488238f24c4"
      },
      "source": [
        "def func(*args,**kwargs):\r\n",
        "  print(args) # Tuple\r\n",
        "  print(kwargs) # Dict\r\n",
        "\r\n",
        "func(1,2,3,4,a=10,b=20,c=30,d=40)"
      ],
      "execution_count": 63,
      "outputs": [
        {
          "output_type": "stream",
          "text": [
            "(1, 2, 3, 4)\n",
            "{'a': 10, 'b': 20, 'c': 30, 'd': 40}\n"
          ],
          "name": "stdout"
        }
      ]
    }
  ]
}